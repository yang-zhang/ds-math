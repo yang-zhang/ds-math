{
 "cells": [
  {
   "cell_type": "code",
   "execution_count": 53,
   "metadata": {
    "collapsed": false
   },
   "outputs": [],
   "source": [
    "import numpy as np\n",
    "from sklearn import preprocessing\n",
    "from sklearn import decomposition\n",
    "from sklearn import datasets\n",
    "from numpy import linalg"
   ]
  },
  {
   "cell_type": "code",
   "execution_count": 54,
   "metadata": {
    "collapsed": false,
    "scrolled": true
   },
   "outputs": [
    {
     "name": "stdout",
     "output_type": "stream",
     "text": [
      "X\n",
      "[[-1 -5]\n",
      " [-2 -1]\n",
      " [-3 -2]\n",
      " [ 1  1]\n",
      " [ 2  1]\n",
      " [ 3  2]]\n",
      "2\n",
      "X_low_rank\n",
      "[[-2.87023206 -3.43914855]\n",
      " [-1.31304952 -1.57331263]\n",
      " [-2.21554175 -2.6546903 ]\n",
      " [ 0.90249224  1.08137767]\n",
      " [ 1.31304952  1.57331263]\n",
      " [ 2.21554175  2.6546903 ]]\n",
      "1\n"
     ]
    }
   ],
   "source": [
    "X = np.array([[-1, -5], [-2, -1], [-3, -2], [1, 1], [2, 1], [3, 2]])\n",
    "print 'X\\n', X\n",
    "print linalg.matrix_rank(X)\n",
    "U, d, V_T = linalg.svd(X)\n",
    "n, p = X.shape\n",
    "number_of_singular_values = len(d)\n",
    "D = np.concatenate((np.diag(d), np.zeros((n - number_of_singular_values, p))))\n",
    "rank_low = 1\n",
    "U_1 =  U[:, 0:rank_low]\n",
    "D_1 = D[0:rank_low, 0:rank_low]\n",
    "V_T_1 = V_T[0:rank_low, :]\n",
    "X_low_rank = np.dot(U_1, np.dot(D_1, V_T_1))\n",
    "print 'X_low_rank\\n', X_low_rank\n",
    "print linalg.matrix_rank(X_low_rank)"
   ]
  },
  {
   "cell_type": "markdown",
   "metadata": {},
   "source": [
    "http://stats.stackexchange.com/questions/134282/relationship-between-svd-and-pca-how-to-use-svd-to-perform-pca"
   ]
  },
  {
   "cell_type": "code",
   "execution_count": 55,
   "metadata": {
    "collapsed": false,
    "scrolled": false
   },
   "outputs": [
    {
     "data": {
      "text/plain": [
       "array([[-1.        , -4.33333333],\n",
       "       [-2.        , -0.33333333],\n",
       "       [-3.        , -1.33333333],\n",
       "       [ 1.        ,  1.66666667],\n",
       "       [ 2.        ,  1.66666667],\n",
       "       [ 3.        ,  2.66666667]])"
      ]
     },
     "execution_count": 55,
     "metadata": {},
     "output_type": "execute_result"
    }
   ],
   "source": [
    "n, p = X.shape\n",
    "X_centered = preprocessing.scale(X, with_mean=True, with_std=False)\n",
    "X_centered"
   ]
  },
  {
   "cell_type": "code",
   "execution_count": 50,
   "metadata": {
    "collapsed": false,
    "scrolled": true
   },
   "outputs": [
    {
     "name": "stdout",
     "output_type": "stream",
     "text": [
      "[[-3.90644947  2.12542474]\n",
      " [-1.57588084 -1.27581766]\n",
      " [-2.98752307 -1.36105977]\n",
      " [ 1.91060368 -0.35689126]\n",
      " [ 2.57380373  0.39155091]\n",
      " [ 3.98544596  0.47679303]]\n",
      "1st principle component:\n",
      "[[-3.90644947]\n",
      " [-1.57588084]\n",
      " [-2.98752307]\n",
      " [ 1.91060368]\n",
      " [ 2.57380373]\n",
      " [ 3.98544596]]\n",
      "var1: 8.80461558635\n",
      "var1/(var1+var2): 0.861321089969\n"
     ]
    }
   ],
   "source": [
    "U, d, V_T = linalg.svd(X_centered)\n",
    "number_of_singular_values = len(d)\n",
    "D = np.concatenate((np.diag(d), np.zeros((n - number_of_singular_values, p))))\n",
    "np.dot(X_centered, V_T)\n",
    "comps = np.dot(X_centered, V_T)\n",
    "print comps\n",
    "print '1st principle component:\\n', comps[:,0].reshape(n,1)\n",
    "var1 = np.var(comps[:,0])\n",
    "var2 = np.var(comps[:,1])\n",
    "print 'var1:', var1\n",
    "print 'var1/(var1+var2):', var1/(var1+var2)"
   ]
  },
  {
   "cell_type": "markdown",
   "metadata": {},
   "source": [
    "sklearn builtin - no need the step to scale to 0 mean - already done in function"
   ]
  },
  {
   "cell_type": "code",
   "execution_count": 61,
   "metadata": {
    "collapsed": false,
    "scrolled": true
   },
   "outputs": [
    {
     "name": "stdout",
     "output_type": "stream",
     "text": [
      "[[-3.90644947]\n",
      " [-1.57588084]\n",
      " [-2.98752307]\n",
      " [ 1.91060368]\n",
      " [ 2.57380373]\n",
      " [ 3.98544596]]\n",
      "explained_variance_ [ 8.80461559]\n",
      "explained_variance_ratio_ [ 0.86132109]\n"
     ]
    }
   ],
   "source": [
    "pca = decomposition.PCA(n_components=1)\n",
    "pca.fit(X)\n",
    "X1_b = pca.transform(X)\n",
    "print X1_b\n",
    "print 'explained_variance_', pca.explained_variance_\n",
    "print 'explained_variance_ratio_', pca.explained_variance_ratio_"
   ]
  },
  {
   "cell_type": "code",
   "execution_count": 60,
   "metadata": {
    "collapsed": false
   },
   "outputs": [
    {
     "data": {
      "text/plain": [
       "True"
      ]
     },
     "execution_count": 60,
     "metadata": {},
     "output_type": "execute_result"
    }
   ],
   "source": [
    "np.isclose(X1_b.mean(), 0)"
   ]
  }
 ],
 "metadata": {
  "anaconda-cloud": {},
  "kernelspec": {
   "display_name": "Python [default]",
   "language": "python",
   "name": "python2"
  },
  "language_info": {
   "codemirror_mode": {
    "name": "ipython",
    "version": 2
   },
   "file_extension": ".py",
   "mimetype": "text/x-python",
   "name": "python",
   "nbconvert_exporter": "python",
   "pygments_lexer": "ipython2",
   "version": "2.7.12"
  }
 },
 "nbformat": 4,
 "nbformat_minor": 1
}

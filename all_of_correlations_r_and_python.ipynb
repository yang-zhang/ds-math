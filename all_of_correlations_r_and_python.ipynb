{
 "cells": [
  {
   "cell_type": "code",
   "execution_count": 1,
   "metadata": {
    "collapsed": true
   },
   "outputs": [],
   "source": [
    "%matplotlib inline\n",
    "import numpy as np\n",
    "import pandas as pd\n",
    "import matplotlib.pyplot as plt\n",
    "\n",
    "# pd.options.display.max_columns = None\n",
    "\n",
    "# from IPython.core.pylabtools import figsize\n",
    "# figsize(11, 9)\n",
    "\n",
    "from IPython.core.interactiveshell import InteractiveShell\n",
    "InteractiveShell.ast_node_interactivity = \"all\"\n",
    "\n",
    "import rpy2.robjects as ro\n",
    "from rpy2.robjects.packages import importr"
   ]
  },
  {
   "cell_type": "code",
   "execution_count": 180,
   "metadata": {
    "collapsed": true
   },
   "outputs": [],
   "source": [
    "base = importr('base')"
   ]
  },
  {
   "cell_type": "markdown",
   "metadata": {},
   "source": [
    "# Make data"
   ]
  },
  {
   "cell_type": "code",
   "execution_count": null,
   "metadata": {
    "collapsed": true
   },
   "outputs": [],
   "source": [
    "N = 1000"
   ]
  },
  {
   "cell_type": "markdown",
   "metadata": {},
   "source": [
    "## numericals"
   ]
  },
  {
   "cell_type": "code",
   "execution_count": 140,
   "metadata": {
    "collapsed": true
   },
   "outputs": [],
   "source": [
    "numerical_1 = np.random.uniform(0, 1, N)\n",
    "numerical_2 = numerical_1 + 0.1*np.random.randn(N)\n",
    "\n",
    "numerical_1_r = ro.FloatVector(numerical_1)\n",
    "numerical_2_r = ro.FloatVector(numerical_2)"
   ]
  },
  {
   "cell_type": "markdown",
   "metadata": {},
   "source": [
    "## categoricals"
   ]
  },
  {
   "cell_type": "code",
   "execution_count": null,
   "metadata": {
    "collapsed": true
   },
   "outputs": [],
   "source": [
    "def generate_rints(num_categories, N):\n",
    "    rint_1 = np.random.randint(0, num_categories, N)\n",
    "    rint_2 = rint_1.copy()\n",
    "    \n",
    "    for i in range(len(rint_1)):\n",
    "        if np.random.uniform(0, 1)>0.9:\n",
    "            rint_2[i]=np.random.randint(0, num_categories, 1)\n",
    "    return rint_1, rint_2"
   ]
  },
  {
   "cell_type": "markdown",
   "metadata": {},
   "source": [
    "### Binary"
   ]
  },
  {
   "cell_type": "code",
   "execution_count": 145,
   "metadata": {
    "collapsed": false,
    "scrolled": true
   },
   "outputs": [],
   "source": [
    "rint_binary_1, rint_binary_2 = generate_rints(2, N)\n",
    "\n",
    "rint_binary_1_r = ro.IntVector(rint_binary_1)\n",
    "rint_binary_2_r = ro.IntVector(rint_binary_2)\n",
    "        \n",
    "categorical_binary_1 = [str(i) for i in rint_binary_1]\n",
    "categorical_binary_2 = [str(i) for i in rint_binary_2] \n",
    "\n",
    "categorical_binary_1_r = ro.FactorVector(categorical_binary_1)\n",
    "categorical_binary_2_r = ro.FactorVector(categorical_binary_2)"
   ]
  },
  {
   "cell_type": "markdown",
   "metadata": {},
   "source": [
    "### Multiple "
   ]
  },
  {
   "cell_type": "code",
   "execution_count": 146,
   "metadata": {
    "collapsed": false,
    "scrolled": true
   },
   "outputs": [],
   "source": [
    "rint_multi_1, rint_multi_2 = generate_rints(5, N)\n",
    "\n",
    "rint_multi_1_r = ro.IntVector(rint_multi_1)\n",
    "rint_multi_2_r = ro.IntVector(rint_multi_2)\n",
    "        \n",
    "categorical_multi_1 = [str(i) for i in rint_multi_1]\n",
    "categorical_multi_2 = [str(i) for i in rint_multi_1] \n",
    "\n",
    "categorical_multi_1_r = ro.FactorVector(categorical_multi_1)\n",
    "categorical_multi_2_r = ro.FactorVector(categorical_multi_2)"
   ]
  },
  {
   "cell_type": "code",
   "execution_count": null,
   "metadata": {
    "collapsed": true
   },
   "outputs": [],
   "source": []
  },
  {
   "cell_type": "code",
   "execution_count": null,
   "metadata": {
    "collapsed": true
   },
   "outputs": [],
   "source": []
  },
  {
   "cell_type": "markdown",
   "metadata": {},
   "source": [
    "## Correlated numerical and categorical"
   ]
  },
  {
   "cell_type": "code",
   "execution_count": 147,
   "metadata": {
    "collapsed": false
   },
   "outputs": [],
   "source": [
    "numerical_3 = np.array([np.random.normal(0, 1) if c==0 else np.random.normal(1, 1) for c in rint_binary_2])\n",
    "numerical_3_r = ro.FloatVector(numerical_3)"
   ]
  },
  {
   "cell_type": "code",
   "execution_count": 147,
   "metadata": {
    "collapsed": false
   },
   "outputs": [],
   "source": [
    "numerical_3 = np.array([np.random.normal(0, 1) if c==0 else np.random.normal(1, 1) for c in rint_binary_2])\n",
    "numerical_3_r = ro.FloatVector(numerical_3)"
   ]
  },
  {
   "cell_type": "code",
   "execution_count": 148,
   "metadata": {
    "collapsed": false,
    "scrolled": false
   },
   "outputs": [
    {
     "data": {
      "text/plain": [
       "[<matplotlib.lines.Line2D at 0x11cb9e050>]"
      ]
     },
     "execution_count": 148,
     "metadata": {},
     "output_type": "execute_result"
    },
    {
     "data": {
      "image/png": "[encoded data removed]",
      "text/plain": [
       "<matplotlib.figure.Figure at 0x11c9cfbd0>"
      ]
     },
     "metadata": {},
     "output_type": "display_data"
    }
   ],
   "source": [
    "plt.plot(numerical_3, rint_binary_2, '.')"
   ]
  },
  {
   "cell_type": "markdown",
   "metadata": {},
   "source": [
    "# numerical v.s. numerical"
   ]
  },
  {
   "cell_type": "markdown",
   "metadata": {},
   "source": [
    "## Pearson correlation coefficient"
   ]
  },
  {
   "cell_type": "code",
   "execution_count": 186,
   "metadata": {
    "collapsed": false,
    "scrolled": false
   },
   "outputs": [
    {
     "data": {
      "text/plain": [
       "(0.94110791971333241, 0.0)"
      ]
     },
     "execution_count": 186,
     "metadata": {},
     "output_type": "execute_result"
    }
   ],
   "source": [
    "scipy.stats.pearsonr(numerical_1, numerical_2)"
   ]
  },
  {
   "cell_type": "code",
   "execution_count": 190,
   "metadata": {
    "collapsed": false,
    "scrolled": false
   },
   "outputs": [
    {
     "name": "stdout",
     "output_type": "stream",
     "text": [
      "[1] 0.9411079\n",
      "\n"
     ]
    }
   ],
   "source": [
    "print ro.r.cor(numerical_1_r, numerical_2_r)"
   ]
  },
  {
   "cell_type": "markdown",
   "metadata": {},
   "source": [
    "# numerical v.s. categorical"
   ]
  },
  {
   "cell_type": "markdown",
   "metadata": {},
   "source": [
    "## ttest"
   ]
  },
  {
   "cell_type": "markdown",
   "metadata": {},
   "source": [
    "### Correlated"
   ]
  },
  {
   "cell_type": "code",
   "execution_count": 195,
   "metadata": {
    "collapsed": false
   },
   "outputs": [
    {
     "data": {
      "text/plain": [
       "Ttest_indResult(statistic=-15.290988894909965, pvalue=1.3974169307393314e-47)"
      ]
     },
     "execution_count": 195,
     "metadata": {},
     "output_type": "execute_result"
    }
   ],
   "source": [
    "numerical_3_0 = numerical_3[np.where(rint_binary_2==0)]\n",
    "numerical_3_1 = numerical_3[np.where(rint_binary_2==1)]\n",
    "scipy.stats.ttest_ind(numerical_3_0, numerical_3_1, axis=0, equal_var=True)"
   ]
  },
  {
   "cell_type": "code",
   "execution_count": 220,
   "metadata": {
    "collapsed": false,
    "scrolled": false
   },
   "outputs": [
    {
     "name": "stdout",
     "output_type": "stream",
     "text": [
      "c(\"statistic\", \"parameter\", \"p.value\", \"conf.int\", \"estimate\", \n",
      "\"null.value\", \"alternative\", \"method\", \"data.name\")\n",
      "        t \n",
      "-15.29396 \n",
      "\n"
     ]
    }
   ],
   "source": [
    "numerical_3_0_r = ro.FloatVector(numerical_3_0)\n",
    "numerical_3_1_r = ro.FloatVector(numerical_3_1)\n",
    "tt = ro.r('t.test')(numerical_3_0_r, numerical_3_1_r)\n",
    "print tt.names.r_repr()\n",
    "print tt[tt.names.index('statistic')]"
   ]
  },
  {
   "cell_type": "code",
   "execution_count": 222,
   "metadata": {
    "collapsed": false
   },
   "outputs": [
    {
     "data": {
      "text/plain": [
       "2"
      ]
     },
     "execution_count": 222,
     "metadata": {},
     "output_type": "execute_result"
    }
   ],
   "source": [
    "a=1; b=2;\n",
    "a\n",
    "b"
   ]
  },
  {
   "cell_type": "markdown",
   "metadata": {},
   "source": [
    "### Uncorrelated"
   ]
  },
  {
   "cell_type": "code",
   "execution_count": 161,
   "metadata": {
    "collapsed": false,
    "scrolled": true
   },
   "outputs": [
    {
     "data": {
      "text/plain": [
       "Ttest_indResult(statistic=0.53380829696972421, pvalue=0.59359304373185329)"
      ]
     },
     "execution_count": 161,
     "metadata": {},
     "output_type": "execute_result"
    }
   ],
   "source": [
    "scipy.stats.ttest_ind(numerical_2[np.where(rint_binary_2==0)], numerical_2[np.where(rint_binary_2==1)], axis=0, equal_var=True)"
   ]
  },
  {
   "cell_type": "code",
   "execution_count": 151,
   "metadata": {
    "collapsed": false,
    "scrolled": false
   },
   "outputs": [
    {
     "data": {
      "text/plain": [
       "F_onewayResult(statistic=233.81434138425982, pvalue=1.397416930739892e-47)"
      ]
     },
     "execution_count": 151,
     "metadata": {},
     "output_type": "execute_result"
    }
   ],
   "source": [
    "scipy.stats.f_oneway(numerical_3[np.where(rint_binary_2==0)], numerical_3[np.where(rint_binary_2==1)])"
   ]
  },
  {
   "cell_type": "markdown",
   "metadata": {},
   "source": [
    "## Analysis of Variance"
   ]
  },
  {
   "cell_type": "markdown",
   "metadata": {},
   "source": [
    "### Interesting case"
   ]
  },
  {
   "cell_type": "code",
   "execution_count": 179,
   "metadata": {
    "collapsed": false,
    "scrolled": true
   },
   "outputs": [
    {
     "name": "stdout",
     "output_type": "stream",
     "text": [
      "             Df Sum Sq Mean Sq F value Pr(>F)    \n",
      "cat           1  240.1  240.13   233.8 <2e-16 ***\n",
      "Residuals   998 1024.9    1.03                   \n",
      "---\n",
      "Signif. codes:  0 ‘***’ 0.001 ‘**’ 0.01 ‘*’ 0.05 ‘.’ 0.1 ‘ ’ 1\n",
      "\n"
     ]
    }
   ],
   "source": [
    "df = ro.DataFrame({'num':numerical_3_r, 'cat': categorical_binary_2_r})\n",
    "aov_res = ro.r('aov')(ro.Formula('num~cat'), df)\n",
    "print base.summary(aov_res)"
   ]
  },
  {
   "cell_type": "code",
   "execution_count": 152,
   "metadata": {
    "collapsed": false,
    "scrolled": false
   },
   "outputs": [
    {
     "data": {
      "text/plain": [
       "F_onewayResult(statistic=0.2849512979137182, pvalue=0.59359304373168742)"
      ]
     },
     "execution_count": 152,
     "metadata": {},
     "output_type": "execute_result"
    }
   ],
   "source": [
    "scipy.stats.f_oneway(numerical_2[np.where(rint_binary_2==0)], numerical_2[np.where(rint_binary_2==1)])"
   ]
  },
  {
   "cell_type": "markdown",
   "metadata": {},
   "source": [
    "### Uninteresting case"
   ]
  },
  {
   "cell_type": "code",
   "execution_count": 183,
   "metadata": {
    "collapsed": false,
    "scrolled": true
   },
   "outputs": [
    {
     "name": "stdout",
     "output_type": "stream",
     "text": [
      "             Df Sum Sq Mean Sq F value Pr(>F)\n",
      "cat           1   0.03 0.02648   0.285  0.594\n",
      "Residuals   998  92.76 0.09294               \n",
      "\n"
     ]
    }
   ],
   "source": [
    "df = ro.DataFrame({'num':numerical_2_r, 'cat': categorical_binary_2_r})\n",
    "aov_res = ro.r('aov')(ro.Formula('num~cat'), df)\n",
    "print base.summary(aov_res)"
   ]
  },
  {
   "cell_type": "code",
   "execution_count": 182,
   "metadata": {
    "collapsed": false
   },
   "outputs": [
    {
     "name": "stdout",
     "output_type": "stream",
     "text": [
      "          Length Class  Mode     \n",
      "statistic 1      -none- numeric  \n",
      "parameter 1      -none- numeric  \n",
      "p.value   1      -none- numeric  \n",
      "method    1      -none- character\n",
      "data.name 1      -none- character\n",
      "observed  4      table  numeric  \n",
      "expected  4      -none- numeric  \n",
      "residuals 4      table  numeric  \n",
      "stdres    4      table  numeric  \n",
      "\n"
     ]
    }
   ],
   "source": [
    "print base.summary(ro.r('chisq.test')(categorical_binary_1_r, categorical_binary_2_r))"
   ]
  },
  {
   "cell_type": "code",
   "execution_count": null,
   "metadata": {
    "collapsed": true
   },
   "outputs": [],
   "source": []
  },
  {
   "cell_type": "markdown",
   "metadata": {},
   "source": [
    "Ref: http://stats.stackexchange.com/questions/108007/correlations-with-categorical-variables"
   ]
  }
 ],
 "metadata": {
  "anaconda-cloud": {},
  "kernelspec": {
   "display_name": "Python [conda env:r]",
   "language": "python",
   "name": "conda-env-r-py"
  },
  "language_info": {
   "codemirror_mode": {
    "name": "ipython",
    "version": 2
   },
   "file_extension": ".py",
   "mimetype": "text/x-python",
   "name": "python",
   "nbconvert_exporter": "python",
   "pygments_lexer": "ipython2",
   "version": "2.7.12"
  },
  "toc": {
   "colors": {
    "hover_highlight": "#DAA520",
    "running_highlight": "#FF0000",
    "selected_highlight": "#FFD700"
   },
   "moveMenuLeft": true,
   "nav_menu": {
    "height": "12px",
    "width": "252px"
   },
   "navigate_menu": true,
   "number_sections": true,
   "sideBar": true,
   "threshold": 4,
   "toc_cell": false,
   "toc_section_display": "block",
   "toc_window_display": false
  }
 },
 "nbformat": 4,
 "nbformat_minor": 1
}

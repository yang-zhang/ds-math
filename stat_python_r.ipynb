{
 "cells": [
  {
   "cell_type": "code",
   "execution_count": 65,
   "metadata": {
    "collapsed": false
   },
   "outputs": [
    {
     "data": {
      "text/plain": [
       "(1.6466121098225726, 0.099637799747829478)"
      ]
     },
     "execution_count": 65,
     "metadata": {},
     "output_type": "execute_result"
    }
   ],
   "source": [
    "import statsmodels.stats.proportion\n",
    "statsmodels.stats.proportion.proportions_ztest(526, 1000, value=0.5)"
   ]
  },
  {
   "cell_type": "code",
   "execution_count": null,
   "metadata": {
    "collapsed": true
   },
   "outputs": [],
   "source": []
  },
  {
   "cell_type": "code",
   "execution_count": 39,
   "metadata": {
    "collapsed": true
   },
   "outputs": [],
   "source": [
    "def ztest_proportion(successes, trials, popmean=0.5, one_sided=False):\n",
    "    se = popmean*(1-popmean)/trials\n",
    "    p = successes/trials\n",
    "    se = np.sqrt(se)\n",
    "    z = (p-popmean)/se\n",
    "    p = 1-stats.norm.cdf(abs(z))\n",
    "    p *= 2-one_sided # if not one_sided: p *= 2\n",
    "    return z, p"
   ]
  },
  {
   "cell_type": "code",
   "execution_count": 56,
   "metadata": {
    "collapsed": false,
    "scrolled": false
   },
   "outputs": [
    {
     "data": {
      "text/plain": [
       "(2.909295447354912, 0.0036224435050637993)"
      ]
     },
     "execution_count": 56,
     "metadata": {},
     "output_type": "execute_result"
    }
   ],
   "source": [
    "ztest_proportion(546, 1000, popmean=0.5)"
   ]
  },
  {
   "cell_type": "code",
   "execution_count": 57,
   "metadata": {
    "collapsed": false,
    "scrolled": true
   },
   "outputs": [
    {
     "data": {
      "text/plain": [
       "(2.909295447354912, 0.0018112217525318997)"
      ]
     },
     "execution_count": 57,
     "metadata": {},
     "output_type": "execute_result"
    }
   ],
   "source": [
    "ztest_proportion(546, 1000, popmean=0.5, one_sided=True)"
   ]
  },
  {
   "cell_type": "code",
   "execution_count": 58,
   "metadata": {
    "collapsed": false,
    "scrolled": true
   },
   "outputs": [
    {
     "data": {
      "text/plain": [
       "(2.9216862985268865, 0.99825929001428448)"
      ]
     },
     "execution_count": 58,
     "metadata": {},
     "output_type": "execute_result"
    }
   ],
   "source": [
    "statsmodels.stats.proportion.proportions_ztest(546, 1000, value=.5, alternative='smaller')"
   ]
  },
  {
   "cell_type": "code",
   "execution_count": 59,
   "metadata": {
    "collapsed": false,
    "scrolled": false
   },
   "outputs": [
    {
     "data": {
      "text/plain": [
       "(2.909295447354912, 0.0036224435050637993)"
      ]
     },
     "execution_count": 59,
     "metadata": {},
     "output_type": "execute_result"
    }
   ],
   "source": [
    "ztest_proportion(546, 1000, popmean=0.5, one_sided=False)"
   ]
  },
  {
   "cell_type": "code",
   "execution_count": 46,
   "metadata": {
    "collapsed": false
   },
   "outputs": [
    {
     "data": {
      "text/plain": [
       "(16.975612759821917, 1.0)"
      ]
     },
     "execution_count": 46,
     "metadata": {},
     "output_type": "execute_result"
    }
   ],
   "source": [
    "statsmodels.stats.proportion.proportions_ztest(546, 1000, value=.3, alternative='smaller', prop_var=.3)"
   ]
  },
  {
   "cell_type": "code",
   "execution_count": 16,
   "metadata": {
    "collapsed": true
   },
   "outputs": [],
   "source": [
    "import scipy"
   ]
  },
  {
   "cell_type": "code",
   "execution_count": 18,
   "metadata": {
    "collapsed": false
   },
   "outputs": [
    {
     "data": {
      "text/plain": [
       "<function scipy.stats.contingency.chi2_contingency>"
      ]
     },
     "execution_count": 18,
     "metadata": {},
     "output_type": "execute_result"
    }
   ],
   "source": [
    "scipy.stats.chisquare()"
   ]
  },
  {
   "cell_type": "markdown",
   "metadata": {},
   "source": [
    "- https://www.r-bloggers.com/one-proportion-z-test-in-r/"
   ]
  },
  {
   "cell_type": "markdown",
   "metadata": {},
   "source": [
    "old"
   ]
  },
  {
   "cell_type": "code",
   "execution_count": null,
   "metadata": {
    "collapsed": true
   },
   "outputs": [],
   "source": []
  },
  {
   "cell_type": "code",
   "execution_count": null,
   "metadata": {
    "collapsed": true
   },
   "outputs": [],
   "source": []
  },
  {
   "cell_type": "code",
   "execution_count": null,
   "metadata": {
    "collapsed": true
   },
   "outputs": [],
   "source": []
  },
  {
   "cell_type": "code",
   "execution_count": null,
   "metadata": {
    "collapsed": true
   },
   "outputs": [],
   "source": []
  },
  {
   "cell_type": "code",
   "execution_count": null,
   "metadata": {
    "collapsed": true
   },
   "outputs": [],
   "source": []
  },
  {
   "cell_type": "code",
   "execution_count": null,
   "metadata": {
    "collapsed": true
   },
   "outputs": [],
   "source": []
  },
  {
   "cell_type": "code",
   "execution_count": null,
   "metadata": {
    "collapsed": true
   },
   "outputs": [],
   "source": []
  },
  {
   "cell_type": "code",
   "execution_count": null,
   "metadata": {
    "collapsed": true
   },
   "outputs": [],
   "source": []
  },
  {
   "cell_type": "code",
   "execution_count": 71,
   "metadata": {
    "collapsed": false
   },
   "outputs": [],
   "source": [
    "%matplotlib inline\n",
    "import numpy as np\n",
    "import pandas as pd\n",
    "import scipy.stats\n",
    "import sklearn.metrics\n",
    "import math\n",
    "import matplotlib.pyplot as plt\n",
    "\n",
    "\n",
    "from IPython.core.interactiveshell import InteractiveShell\n",
    "InteractiveShell.ast_node_interactivity = \"all\"\n",
    "\n",
    "import rpy2.robjects as ro\n",
    "import rpy2.robjects.packages as rpackages\n",
    "\n",
    "# https://github.com/yang-zhang/ds-utils\n",
    "import ds_utils.stats"
   ]
  },
  {
   "cell_type": "code",
   "execution_count": 2,
   "metadata": {
    "collapsed": true
   },
   "outputs": [],
   "source": [
    "base = rpackages.importr('base')"
   ]
  },
  {
   "cell_type": "code",
   "execution_count": 18,
   "metadata": {
    "collapsed": true
   },
   "outputs": [
    {
     "name": "stderr",
     "output_type": "stream",
     "text": [
      "/opt/conda/lib/python3.6/site-packages/rpy2/rinterface/__init__.py:186: RRuntimeWarning: also installing the dependencies ‘zoo’, ‘mnormt’, ‘colorspace’, ‘lmtest’\n",
      "\n",
      "\n",
      "  warnings.warn(x, RRuntimeWarning)\n",
      "/opt/conda/lib/python3.6/site-packages/rpy2/rinterface/__init__.py:186: RRuntimeWarning: trying URL 'https://cloud.r-project.org/src/contrib/zoo_1.7-14.tar.gz'\n",
      "\n",
      "  warnings.warn(x, RRuntimeWarning)\n",
      "/opt/conda/lib/python3.6/site-packages/rpy2/rinterface/__init__.py:186: RRuntimeWarning: Content type 'application/x-gzip'\n",
      "  warnings.warn(x, RRuntimeWarning)\n",
      "/opt/conda/lib/python3.6/site-packages/rpy2/rinterface/__init__.py:186: RRuntimeWarning:  length 845540 bytes (825 KB)\n",
      "\n",
      "  warnings.warn(x, RRuntimeWarning)\n",
      "/opt/conda/lib/python3.6/site-packages/rpy2/rinterface/__init__.py:186: RRuntimeWarning: =\n",
      "  warnings.warn(x, RRuntimeWarning)\n",
      "/opt/conda/lib/python3.6/site-packages/rpy2/rinterface/__init__.py:186: RRuntimeWarning: \n",
      "\n",
      "  warnings.warn(x, RRuntimeWarning)\n",
      "/opt/conda/lib/python3.6/site-packages/rpy2/rinterface/__init__.py:186: RRuntimeWarning: downloaded 825 KB\n",
      "\n",
      "\n",
      "  warnings.warn(x, RRuntimeWarning)\n",
      "/opt/conda/lib/python3.6/site-packages/rpy2/rinterface/__init__.py:186: RRuntimeWarning: trying URL 'https://cloud.r-project.org/src/contrib/mnormt_1.5-5.tar.gz'\n",
      "\n",
      "  warnings.warn(x, RRuntimeWarning)\n",
      "/opt/conda/lib/python3.6/site-packages/rpy2/rinterface/__init__.py:186: RRuntimeWarning:  length 37169 bytes (36 KB)\n",
      "\n",
      "  warnings.warn(x, RRuntimeWarning)\n",
      "/opt/conda/lib/python3.6/site-packages/rpy2/rinterface/__init__.py:186: RRuntimeWarning: downloaded 36 KB\n",
      "\n",
      "\n",
      "  warnings.warn(x, RRuntimeWarning)\n",
      "/opt/conda/lib/python3.6/site-packages/rpy2/rinterface/__init__.py:186: RRuntimeWarning: trying URL 'https://cloud.r-project.org/src/contrib/colorspace_1.3-2.tar.gz'\n",
      "\n",
      "  warnings.warn(x, RRuntimeWarning)\n",
      "/opt/conda/lib/python3.6/site-packages/rpy2/rinterface/__init__.py:186: RRuntimeWarning:  length 293433 bytes (286 KB)\n",
      "\n",
      "  warnings.warn(x, RRuntimeWarning)\n",
      "/opt/conda/lib/python3.6/site-packages/rpy2/rinterface/__init__.py:186: RRuntimeWarning: downloaded 286 KB\n",
      "\n",
      "\n",
      "  warnings.warn(x, RRuntimeWarning)\n",
      "/opt/conda/lib/python3.6/site-packages/rpy2/rinterface/__init__.py:186: RRuntimeWarning: trying URL 'https://cloud.r-project.org/src/contrib/lmtest_0.9-35.tar.gz'\n",
      "\n",
      "  warnings.warn(x, RRuntimeWarning)\n",
      "/opt/conda/lib/python3.6/site-packages/rpy2/rinterface/__init__.py:186: RRuntimeWarning:  length 183575 bytes (179 KB)\n",
      "\n",
      "  warnings.warn(x, RRuntimeWarning)\n",
      "/opt/conda/lib/python3.6/site-packages/rpy2/rinterface/__init__.py:186: RRuntimeWarning: downloaded 179 KB\n",
      "\n",
      "\n",
      "  warnings.warn(x, RRuntimeWarning)\n",
      "/opt/conda/lib/python3.6/site-packages/rpy2/rinterface/__init__.py:186: RRuntimeWarning: trying URL 'https://cloud.r-project.org/src/contrib/entropy_1.2.1.tar.gz'\n",
      "\n",
      "  warnings.warn(x, RRuntimeWarning)\n",
      "/opt/conda/lib/python3.6/site-packages/rpy2/rinterface/__init__.py:186: RRuntimeWarning:  length 13572 bytes (13 KB)\n",
      "\n",
      "  warnings.warn(x, RRuntimeWarning)\n",
      "/opt/conda/lib/python3.6/site-packages/rpy2/rinterface/__init__.py:186: RRuntimeWarning: downloaded 13 KB\n",
      "\n",
      "\n",
      "  warnings.warn(x, RRuntimeWarning)\n",
      "/opt/conda/lib/python3.6/site-packages/rpy2/rinterface/__init__.py:186: RRuntimeWarning: trying URL 'https://cloud.r-project.org/src/contrib/psych_1.7.3.21.tar.gz'\n",
      "\n",
      "  warnings.warn(x, RRuntimeWarning)\n",
      "/opt/conda/lib/python3.6/site-packages/rpy2/rinterface/__init__.py:186: RRuntimeWarning:  length 3679966 bytes (3.5 MB)\n",
      "\n",
      "  warnings.warn(x, RRuntimeWarning)\n",
      "/opt/conda/lib/python3.6/site-packages/rpy2/rinterface/__init__.py:186: RRuntimeWarning: downloaded 3.5 MB\n",
      "\n",
      "\n",
      "  warnings.warn(x, RRuntimeWarning)\n",
      "/opt/conda/lib/python3.6/site-packages/rpy2/rinterface/__init__.py:186: RRuntimeWarning: trying URL 'https://cloud.r-project.org/src/contrib/vcd_1.4-3.tar.gz'\n",
      "\n",
      "  warnings.warn(x, RRuntimeWarning)\n",
      "/opt/conda/lib/python3.6/site-packages/rpy2/rinterface/__init__.py:186: RRuntimeWarning:  length 968433 bytes (945 KB)\n",
      "\n",
      "  warnings.warn(x, RRuntimeWarning)\n",
      "/opt/conda/lib/python3.6/site-packages/rpy2/rinterface/__init__.py:186: RRuntimeWarning: downloaded 945 KB\n",
      "\n",
      "\n",
      "  warnings.warn(x, RRuntimeWarning)\n",
      "/opt/conda/lib/python3.6/site-packages/rpy2/rinterface/__init__.py:186: RRuntimeWarning: \n",
      "  warnings.warn(x, RRuntimeWarning)\n",
      "/opt/conda/lib/python3.6/site-packages/rpy2/rinterface/__init__.py:186: RRuntimeWarning: The downloaded source packages are in\n",
      "\t‘/tmp/RtmpIu22eS/downloaded_packages’\n",
      "  warnings.warn(x, RRuntimeWarning)\n",
      "/opt/conda/lib/python3.6/site-packages/rpy2/rinterface/__init__.py:186: RRuntimeWarning: Updating HTML index of packages in '.Library'\n",
      "\n",
      "  warnings.warn(x, RRuntimeWarning)\n",
      "/opt/conda/lib/python3.6/site-packages/rpy2/rinterface/__init__.py:186: RRuntimeWarning: Making 'packages.html' ...\n",
      "  warnings.warn(x, RRuntimeWarning)\n",
      "/opt/conda/lib/python3.6/site-packages/rpy2/rinterface/__init__.py:186: RRuntimeWarning:  done\n",
      "\n",
      "  warnings.warn(x, RRuntimeWarning)\n"
     ]
    },
    {
     "data": {
      "text/plain": [
       "rpy2.rinterface.NULL"
      ]
     },
     "execution_count": 18,
     "metadata": {},
     "output_type": "execute_result"
    }
   ],
   "source": [
    "from rpy2.robjects.packages import importr\n",
    "utils = importr('utils')\n",
    "utils.install_packages(ro.StrVector(['entropy', 'psych', 'vcd']))"
   ]
  },
  {
   "cell_type": "markdown",
   "metadata": {},
   "source": [
    "Or run a R kernal in Jupyter and run \n",
    "```\n",
    "install.packages(c('entropy', 'psych', 'vcd'))\n",
    "```"
   ]
  },
  {
   "cell_type": "code",
   "execution_count": 29,
   "metadata": {
    "collapsed": false,
    "scrolled": false
   },
   "outputs": [
    {
     "data": {
      "text/plain": [
       "rpy2.robjects.packages.Package as a <module 'entropy'>"
      ]
     },
     "execution_count": 29,
     "metadata": {},
     "output_type": "execute_result"
    }
   ],
   "source": [
    "rpackages.importr('entropy')"
   ]
  },
  {
   "cell_type": "markdown",
   "metadata": {},
   "source": [
    "This notebook demonstrates various methods to measure correlations between data (numerical and categorical), with code in Python and R, side by side. \n",
    "\n",
    "For exmaples, see https://github.com/yang-zhang/lang-python/blob/master/rpy2%20Tutorial.ipynb"
   ]
  },
  {
   "cell_type": "markdown",
   "metadata": {},
   "source": [
    "# Make data"
   ]
  },
  {
   "cell_type": "code",
   "execution_count": 30,
   "metadata": {
    "collapsed": true
   },
   "outputs": [],
   "source": [
    "N = 500"
   ]
  },
  {
   "cell_type": "markdown",
   "metadata": {},
   "source": [
    "## Numericals"
   ]
  },
  {
   "cell_type": "code",
   "execution_count": 31,
   "metadata": {
    "collapsed": true
   },
   "outputs": [],
   "source": [
    "some_numerical = np.random.uniform(0, 1, N)\n",
    "some_numerical_with_noise = some_numerical + 0.1*np.random.randn(N)\n",
    "\n",
    "some_numerical_r = ro.FloatVector(some_numerical)\n",
    "some_numerical_with_noise_r = ro.FloatVector(some_numerical_with_noise)"
   ]
  },
  {
   "cell_type": "markdown",
   "metadata": {},
   "source": [
    "## Categoricals"
   ]
  },
  {
   "cell_type": "code",
   "execution_count": 32,
   "metadata": {
    "collapsed": true
   },
   "outputs": [],
   "source": [
    "def generate_random_ints(num_categories, N):\n",
    "    some_random_int = np.random.randint(0, num_categories, N)\n",
    "    correlated_random_int = some_random_int.copy()\n",
    "    \n",
    "    for i in range(len(some_random_int)):\n",
    "        if np.random.uniform(0, 1)>0.9:\n",
    "            correlated_random_int[i]=np.random.randint(0, num_categories, 1)\n",
    "    return some_random_int, correlated_random_int"
   ]
  },
  {
   "cell_type": "code",
   "execution_count": 33,
   "metadata": {
    "collapsed": false,
    "scrolled": true
   },
   "outputs": [],
   "source": [
    "some_random_int, correlated_random_int = generate_random_ints(3, N)\n",
    "\n",
    "uncorrelated_random_int = generate_random_ints(3, N)[0]\n",
    "\n",
    "some_categorical_r = ro.FactorVector(some_random_int)\n",
    "correlated_categorical_r = ro.FactorVector(correlated_random_int)\n",
    "uncorrelated_categorical_r = ro.FactorVector(uncorrelated_random_int)"
   ]
  },
  {
   "cell_type": "markdown",
   "metadata": {},
   "source": [
    "## Numerical v.s. categorical"
   ]
  },
  {
   "cell_type": "code",
   "execution_count": 34,
   "metadata": {
    "collapsed": false,
    "scrolled": true
   },
   "outputs": [],
   "source": [
    "numerical_correlated_to_some_categorical = np.array([np.random.normal(c, 1) for c in some_random_int])\n",
    "numerical_correlated_to_some_categorical_r = ro.FloatVector(numerical_correlated_to_some_categorical)"
   ]
  },
  {
   "cell_type": "markdown",
   "metadata": {},
   "source": [
    "# Numerical v.s. numerical"
   ]
  },
  {
   "cell_type": "markdown",
   "metadata": {},
   "source": [
    "## Pearson correlation coefficient"
   ]
  },
  {
   "cell_type": "markdown",
   "metadata": {},
   "source": [
    "### Python"
   ]
  },
  {
   "cell_type": "code",
   "execution_count": 35,
   "metadata": {
    "collapsed": false,
    "scrolled": false
   },
   "outputs": [
    {
     "data": {
      "text/plain": [
       "(0.93948677679738879, 7.8494895038382033e-234)"
      ]
     },
     "execution_count": 35,
     "metadata": {},
     "output_type": "execute_result"
    }
   ],
   "source": [
    "scipy.stats.pearsonr(some_numerical, some_numerical_with_noise)"
   ]
  },
  {
   "cell_type": "markdown",
   "metadata": {},
   "source": [
    "### R"
   ]
  },
  {
   "cell_type": "code",
   "execution_count": 36,
   "metadata": {
    "collapsed": false,
    "scrolled": false
   },
   "outputs": [
    {
     "name": "stdout",
     "output_type": "stream",
     "text": [
      "[1] 0.9394868\n",
      "\n"
     ]
    }
   ],
   "source": [
    "print(ro.r.cor(some_numerical_r, some_numerical_with_noise_r))"
   ]
  },
  {
   "cell_type": "markdown",
   "metadata": {},
   "source": [
    "# Categorical v.s. categorical"
   ]
  },
  {
   "cell_type": "markdown",
   "metadata": {},
   "source": [
    "## Chi-square"
   ]
  },
  {
   "cell_type": "markdown",
   "metadata": {},
   "source": [
    "### Python"
   ]
  },
  {
   "cell_type": "markdown",
   "metadata": {},
   "source": [
    "#### Correlated example"
   ]
  },
  {
   "cell_type": "code",
   "execution_count": 37,
   "metadata": {
    "collapsed": false
   },
   "outputs": [
    {
     "data": {
      "text/plain": [
       "(785.04334960990047,\n",
       " 1.3334331957856474e-168,\n",
       " 4,\n",
       " array([[ 60.18 ,  62.9  ,  46.92 ],\n",
       "        [ 62.658,  65.49 ,  48.852],\n",
       "        [ 54.162,  56.61 ,  42.228]]))"
      ]
     },
     "execution_count": 37,
     "metadata": {},
     "output_type": "execute_result"
    }
   ],
   "source": [
    "df = pd.DataFrame({\n",
    "    '_': 0,\n",
    "    'some_random_int': some_random_int,\n",
    "    'correlated_random_int': correlated_random_int,\n",
    "})\n",
    "\n",
    "contingency_table = df.pivot_table(\n",
    "    values='_',\n",
    "    columns='some_random_int',\n",
    "    index='correlated_random_int',\n",
    "    aggfunc='count')\n",
    "\n",
    "scipy.stats.chi2_contingency(contingency_table)"
   ]
  },
  {
   "cell_type": "markdown",
   "metadata": {},
   "source": [
    "#### Uncorrelated example"
   ]
  },
  {
   "cell_type": "code",
   "execution_count": 38,
   "metadata": {
    "collapsed": false
   },
   "outputs": [
    {
     "data": {
      "text/plain": [
       "(3.3288298033276136,\n",
       " 0.50437743246185485,\n",
       " 4,\n",
       " array([[ 64.428,  67.34 ,  50.232],\n",
       "        [ 57.702,  60.31 ,  44.988],\n",
       "        [ 54.87 ,  57.35 ,  42.78 ]]))"
      ]
     },
     "execution_count": 38,
     "metadata": {},
     "output_type": "execute_result"
    }
   ],
   "source": [
    "df = pd.DataFrame({\n",
    "    '_': 0,\n",
    "    'some_random_int': some_random_int,\n",
    "    'correlated_random_int': uncorrelated_random_int,\n",
    "})\n",
    "\n",
    "contingency_table = df.pivot_table(\n",
    "    values='_',\n",
    "    columns='some_random_int',\n",
    "    index='correlated_random_int',\n",
    "    aggfunc='count')\n",
    "\n",
    "scipy.stats.chi2_contingency(contingency_table)"
   ]
  },
  {
   "cell_type": "markdown",
   "metadata": {},
   "source": [
    "### R"
   ]
  },
  {
   "cell_type": "markdown",
   "metadata": {},
   "source": [
    "#### Correlated example"
   ]
  },
  {
   "cell_type": "code",
   "execution_count": 42,
   "metadata": {
    "collapsed": false,
    "scrolled": false
   },
   "outputs": [
    {
     "data": {
      "text/plain": [
       "'c(\"statistic\", \"parameter\", \"p.value\", \"method\", \"data.name\", \\n\"observed\", \"expected\", \"residuals\", \"stdres\")'"
      ]
     },
     "execution_count": 42,
     "metadata": {},
     "output_type": "execute_result"
    },
    {
     "name": "stdout",
     "output_type": "stream",
     "text": [
      "X-squared \n",
      " 785.0433 \n",
      "\n",
      "[1] 1.333433e-168\n",
      "\n"
     ]
    }
   ],
   "source": [
    "res = ro.r('chisq.test')(some_categorical_r, correlated_categorical_r)\n",
    "res.names.r_repr()\n",
    "print(res[res.names.index('statistic')])\n",
    "print(res[res.names.index('p.value')])"
   ]
  },
  {
   "cell_type": "code",
   "execution_count": 43,
   "metadata": {
    "collapsed": false,
    "scrolled": true
   },
   "outputs": [
    {
     "name": "stdout",
     "output_type": "stream",
     "text": [
      "X-squared \n",
      " 785.0433 \n",
      "\n",
      "[1] 1.333433e-168\n",
      "\n"
     ]
    }
   ],
   "source": [
    "# An equivalent way\n",
    "tb = ro.r('table')(some_categorical_r, correlated_categorical_r)\n",
    "res = ro.r('chisq.test')(tb)\n",
    "print(res[res.names.index('statistic')])\n",
    "print(res[res.names.index('p.value')])"
   ]
  },
  {
   "cell_type": "code",
   "execution_count": 44,
   "metadata": {
    "collapsed": false
   },
   "outputs": [
    {
     "data": {
      "text/plain": [
       "array([[1, 0],\n",
       "       [0, 3]])"
      ]
     },
     "execution_count": 44,
     "metadata": {},
     "output_type": "execute_result"
    }
   ],
   "source": [
    "np.array([[1,0],[0,3]])"
   ]
  },
  {
   "cell_type": "code",
   "execution_count": 45,
   "metadata": {
    "collapsed": false
   },
   "outputs": [
    {
     "data": {
      "text/plain": [
       "(0.44444444444444442, 0.50498507509384571, 1, array([[ 0.25,  0.75],\n",
       "        [ 0.75,  2.25]]))"
      ]
     },
     "execution_count": 45,
     "metadata": {},
     "output_type": "execute_result"
    }
   ],
   "source": [
    "scipy.stats.chi2_contingency(np.array([[1,0],[0,3]]))"
   ]
  },
  {
   "cell_type": "markdown",
   "metadata": {},
   "source": [
    "#### Uncorrelated example"
   ]
  },
  {
   "cell_type": "code",
   "execution_count": 46,
   "metadata": {
    "collapsed": false,
    "scrolled": true
   },
   "outputs": [
    {
     "data": {
      "text/plain": [
       "'c(\"statistic\", \"parameter\", \"p.value\", \"method\", \"data.name\", \\n\"observed\", \"expected\", \"residuals\", \"stdres\")'"
      ]
     },
     "execution_count": 46,
     "metadata": {},
     "output_type": "execute_result"
    },
    {
     "name": "stdout",
     "output_type": "stream",
     "text": [
      "X-squared \n",
      "  3.32883 \n",
      "\n",
      "[1] 0.5043774\n",
      "\n"
     ]
    }
   ],
   "source": [
    "res = ro.r('chisq.test')(some_categorical_r, uncorrelated_categorical_r)\n",
    "res.names.r_repr()\n",
    "print(res[res.names.index('statistic')])\n",
    "print(res[res.names.index('p.value')])"
   ]
  },
  {
   "cell_type": "markdown",
   "metadata": {},
   "source": [
    "## Mutual information"
   ]
  },
  {
   "cell_type": "markdown",
   "metadata": {},
   "source": [
    "### Python"
   ]
  },
  {
   "cell_type": "code",
   "execution_count": 47,
   "metadata": {
    "collapsed": false,
    "scrolled": true
   },
   "outputs": [],
   "source": [
    "value_counts_some_random_int = np.bincount(some_random_int)\n",
    "H_some_random_int = scipy.stats.entropy(value_counts_some_random_int)"
   ]
  },
  {
   "cell_type": "code",
   "execution_count": 48,
   "metadata": {
    "collapsed": true
   },
   "outputs": [],
   "source": [
    "def calculate_joint_entropy(x, y):\n",
    "    df = pd.DataFrame(np.stack((x, y), axis=1))\n",
    "    df.columns = ['a', 'b']\n",
    "    df_value_counts_joined = df.groupby(['a', 'b']).size().reset_index().rename(columns={0:'count'})\n",
    "    value_counts_joined = df_value_counts_joined['count']\n",
    "    return scipy.stats.entropy(value_counts_joined)"
   ]
  },
  {
   "cell_type": "markdown",
   "metadata": {},
   "source": [
    "#### Correlated example"
   ]
  },
  {
   "cell_type": "code",
   "execution_count": 49,
   "metadata": {
    "collapsed": true
   },
   "outputs": [],
   "source": [
    "value_counts_correlated_random_int = np.bincount(correlated_random_int)\n",
    "H_correlated_random_int = scipy.stats.entropy(value_counts_correlated_random_int)\n",
    "\n",
    "H_some_random_int_joint_correlated_random_int = calculate_joint_entropy(some_random_int, correlated_random_int)\n",
    "\n",
    "mutual_some_random_int_between_correlated_random_int = H_some_random_int + \\\n",
    "H_correlated_random_int - H_some_random_int_joint_correlated_random_int\n",
    "\n",
    "mutual_some_random_int_between_correlated_random_int_another_method = sklearn.metrics.mutual_info_score(some_random_int, correlated_random_int)"
   ]
  },
  {
   "cell_type": "code",
   "execution_count": 50,
   "metadata": {
    "collapsed": false,
    "scrolled": true
   },
   "outputs": [
    {
     "data": {
      "text/plain": [
       "1.0907974207086875"
      ]
     },
     "execution_count": 50,
     "metadata": {},
     "output_type": "execute_result"
    },
    {
     "data": {
      "text/plain": [
       "1.096765620547882"
      ]
     },
     "execution_count": 50,
     "metadata": {},
     "output_type": "execute_result"
    },
    {
     "data": {
      "text/plain": [
       "0.782311594319689"
      ]
     },
     "execution_count": 50,
     "metadata": {},
     "output_type": "execute_result"
    },
    {
     "data": {
      "text/plain": [
       "0.78231159431968833"
      ]
     },
     "execution_count": 50,
     "metadata": {},
     "output_type": "execute_result"
    }
   ],
   "source": [
    "H_some_random_int\n",
    "H_correlated_random_int\n",
    "mutual_some_random_int_between_correlated_random_int\n",
    "mutual_some_random_int_between_correlated_random_int_another_method"
   ]
  },
  {
   "cell_type": "markdown",
   "metadata": {},
   "source": [
    "#### Uncorrelated example"
   ]
  },
  {
   "cell_type": "code",
   "execution_count": 51,
   "metadata": {
    "collapsed": true
   },
   "outputs": [],
   "source": [
    "value_counts_uncorrelated_random_int = np.bincount(uncorrelated_random_int)\n",
    "H_uncorrelated_random_int = scipy.stats.entropy(value_counts_uncorrelated_random_int)\n",
    "H_some_random_int_joint_uncorrelated_random_int = calculate_joint_entropy(some_random_int, uncorrelated_random_int)\n",
    "\n",
    "mutual_some_random_int_between_uncorrelated_random_int = H_some_random_int + \\\n",
    "H_uncorrelated_random_int - H_some_random_int_joint_uncorrelated_random_int\n",
    "\n",
    "mutual_some_random_int_between_uncorrelated_random_int_another_method = sklearn.metrics.mutual_info_score(some_random_int, uncorrelated_random_int)"
   ]
  },
  {
   "cell_type": "code",
   "execution_count": 52,
   "metadata": {
    "collapsed": false,
    "scrolled": true
   },
   "outputs": [
    {
     "data": {
      "text/plain": [
       "1.0907974207086875"
      ]
     },
     "execution_count": 52,
     "metadata": {},
     "output_type": "execute_result"
    },
    {
     "data": {
      "text/plain": [
       "1.0963253126182673"
      ]
     },
     "execution_count": 52,
     "metadata": {},
     "output_type": "execute_result"
    },
    {
     "data": {
      "text/plain": [
       "0.0033193465887326745"
      ]
     },
     "execution_count": 52,
     "metadata": {},
     "output_type": "execute_result"
    },
    {
     "data": {
      "text/plain": [
       "0.0033193465887322859"
      ]
     },
     "execution_count": 52,
     "metadata": {},
     "output_type": "execute_result"
    }
   ],
   "source": [
    "H_some_random_int\n",
    "H_uncorrelated_random_int\n",
    "mutual_some_random_int_between_uncorrelated_random_int\n",
    "mutual_some_random_int_between_uncorrelated_random_int_another_method"
   ]
  },
  {
   "cell_type": "markdown",
   "metadata": {},
   "source": [
    "### R"
   ]
  },
  {
   "cell_type": "code",
   "execution_count": 53,
   "metadata": {
    "collapsed": true
   },
   "outputs": [],
   "source": [
    "H_some_categorical_r = ro.r('entropy')(ro.r('table')(some_categorical_r))[0]"
   ]
  },
  {
   "cell_type": "markdown",
   "metadata": {},
   "source": [
    "##### Correlated example"
   ]
  },
  {
   "cell_type": "code",
   "execution_count": 54,
   "metadata": {
    "collapsed": false,
    "scrolled": false
   },
   "outputs": [],
   "source": [
    "H_correlated_categorical_r = ro.r('entropy')(ro.r('table')(correlated_categorical_r))[0]\n",
    "tb_cross = ro.r('table')(some_categorical_r, correlated_categorical_r)\n",
    "H_some_categorical_r_joint_correlated_categorical_r = ro.r('entropy')(tb_cross)[0]\n",
    "mutual_some_categorical_r_between_correlated_categorical_r = H_some_categorical_r + H_correlated_categorical_r - H_some_categorical_r_joint_correlated_categorical_r\n",
    "mutual_some_categorical_r_between_correlated_categorical_r_another_method = ro.r('mi.empirical')(tb_cross)[0]"
   ]
  },
  {
   "cell_type": "code",
   "execution_count": 55,
   "metadata": {
    "collapsed": false,
    "scrolled": true
   },
   "outputs": [
    {
     "data": {
      "text/plain": [
       "1.0907974207086875"
      ]
     },
     "execution_count": 55,
     "metadata": {},
     "output_type": "execute_result"
    },
    {
     "data": {
      "text/plain": [
       "1.096765620547882"
      ]
     },
     "execution_count": 55,
     "metadata": {},
     "output_type": "execute_result"
    },
    {
     "data": {
      "text/plain": [
       "0.782311594319689"
      ]
     },
     "execution_count": 55,
     "metadata": {},
     "output_type": "execute_result"
    },
    {
     "data": {
      "text/plain": [
       "0.7823115943196887"
      ]
     },
     "execution_count": 55,
     "metadata": {},
     "output_type": "execute_result"
    }
   ],
   "source": [
    "H_some_categorical_r\n",
    "H_correlated_categorical_r\n",
    "mutual_some_categorical_r_between_correlated_categorical_r\n",
    "mutual_some_categorical_r_between_correlated_categorical_r_another_method"
   ]
  },
  {
   "cell_type": "code",
   "execution_count": 56,
   "metadata": {
    "collapsed": false
   },
   "outputs": [
    {
     "data": {
      "text/plain": [
       "1.4052514469368806"
      ]
     },
     "execution_count": 56,
     "metadata": {},
     "output_type": "execute_result"
    }
   ],
   "source": [
    "H_some_categorical_r_joint_correlated_categorical_r"
   ]
  },
  {
   "cell_type": "markdown",
   "metadata": {},
   "source": [
    "##### Uncorrelated example"
   ]
  },
  {
   "cell_type": "code",
   "execution_count": 57,
   "metadata": {
    "collapsed": false,
    "scrolled": false
   },
   "outputs": [],
   "source": [
    "H_uncorrelated_categorical_r = ro.r('entropy')(ro.r('table')(uncorrelated_categorical_r))[0]\n",
    "tb_cross = ro.r('table')(some_categorical_r, uncorrelated_categorical_r)\n",
    "H_some_categorical_r_joint_uncorrelated_categorical_r = ro.r('entropy')(tb_cross)[0]\n",
    "mutual_some_categorical_r_between_uncorrelated_categorical_r = H_some_categorical_r + H_uncorrelated_categorical_r - H_some_categorical_r_joint_uncorrelated_categorical_r\n",
    "mutual_some_categorical_r_between_uncorrelated_categorical_r_another_method = ro.r('mi.empirical')(tb_cross)[0]"
   ]
  },
  {
   "cell_type": "code",
   "execution_count": 58,
   "metadata": {
    "collapsed": false,
    "scrolled": true
   },
   "outputs": [
    {
     "data": {
      "text/plain": [
       "1.0907974207086875"
      ]
     },
     "execution_count": 58,
     "metadata": {},
     "output_type": "execute_result"
    },
    {
     "data": {
      "text/plain": [
       "1.0963253126182673"
      ]
     },
     "execution_count": 58,
     "metadata": {},
     "output_type": "execute_result"
    },
    {
     "data": {
      "text/plain": [
       "0.0033193465887326745"
      ]
     },
     "execution_count": 58,
     "metadata": {},
     "output_type": "execute_result"
    },
    {
     "data": {
      "text/plain": [
       "0.0033193465887325995"
      ]
     },
     "execution_count": 58,
     "metadata": {},
     "output_type": "execute_result"
    }
   ],
   "source": [
    "H_some_categorical_r\n",
    "H_uncorrelated_categorical_r\n",
    "mutual_some_categorical_r_between_uncorrelated_categorical_r\n",
    "mutual_some_categorical_r_between_uncorrelated_categorical_r_another_method"
   ]
  },
  {
   "cell_type": "markdown",
   "metadata": {},
   "source": [
    "# Numerical v.s. categorical"
   ]
  },
  {
   "cell_type": "markdown",
   "metadata": {},
   "source": [
    "## t-test"
   ]
  },
  {
   "cell_type": "markdown",
   "metadata": {},
   "source": [
    "### Python"
   ]
  },
  {
   "cell_type": "markdown",
   "metadata": {},
   "source": [
    "#### Correlated example"
   ]
  },
  {
   "cell_type": "code",
   "execution_count": 59,
   "metadata": {
    "collapsed": false,
    "scrolled": false
   },
   "outputs": [
    {
     "data": {
      "text/plain": [
       "Ttest_indResult(statistic=-8.8757458951155712, pvalue=3.3213069397465049e-17)"
      ]
     },
     "execution_count": 59,
     "metadata": {},
     "output_type": "execute_result"
    }
   ],
   "source": [
    "numerical_correlated_to_some_categorical_0 = numerical_correlated_to_some_categorical[np.where(some_random_int==0)]\n",
    "numerical_correlated_to_some_categorical_1 = numerical_correlated_to_some_categorical[np.where(some_random_int==1)]\n",
    "scipy.stats.ttest_ind(numerical_correlated_to_some_categorical_0, \n",
    "                      numerical_correlated_to_some_categorical_1, \n",
    "                      axis=0, equal_var=True)"
   ]
  },
  {
   "cell_type": "markdown",
   "metadata": {},
   "source": [
    "#### Uncorrelated example"
   ]
  },
  {
   "cell_type": "code",
   "execution_count": 60,
   "metadata": {
    "collapsed": false,
    "scrolled": false
   },
   "outputs": [
    {
     "data": {
      "text/plain": [
       "Ttest_indResult(statistic=-3.1502702601174768, pvalue=0.0017677398984381884)"
      ]
     },
     "execution_count": 60,
     "metadata": {},
     "output_type": "execute_result"
    }
   ],
   "source": [
    "some_numerical_with_noise_0=some_numerical_with_noise[np.where(some_random_int==0)]\n",
    "some_numerical_with_noise_1=some_numerical_with_noise[np.where(some_random_int==1)]\n",
    "scipy.stats.ttest_ind(some_numerical_with_noise_0, \n",
    "                      some_numerical_with_noise_1,\n",
    "                      axis=0, equal_var=True)"
   ]
  },
  {
   "cell_type": "markdown",
   "metadata": {},
   "source": [
    "### R"
   ]
  },
  {
   "cell_type": "markdown",
   "metadata": {},
   "source": [
    "#### Correlated example"
   ]
  },
  {
   "cell_type": "code",
   "execution_count": 62,
   "metadata": {
    "collapsed": false,
    "scrolled": true
   },
   "outputs": [
    {
     "data": {
      "text/plain": [
       "'c(\"statistic\", \"parameter\", \"p.value\", \"conf.int\", \"estimate\", \\n\"null.value\", \"alternative\", \"method\", \"data.name\")'"
      ]
     },
     "execution_count": 62,
     "metadata": {},
     "output_type": "execute_result"
    },
    {
     "name": "stdout",
     "output_type": "stream",
     "text": [
      "        t \n",
      "-8.884021 \n",
      "\n",
      "[1] 3.124753e-17\n",
      "\n"
     ]
    }
   ],
   "source": [
    "numerical_correlated_to_some_categorical_0_r = ro.FloatVector(numerical_correlated_to_some_categorical_0)\n",
    "numerical_correlated_to_some_categorical_1_r = ro.FloatVector(numerical_correlated_to_some_categorical_1)\n",
    "res = ro.r('t.test')(numerical_correlated_to_some_categorical_0_r, \n",
    "                     numerical_correlated_to_some_categorical_1_r)\n",
    "res.names.r_repr()\n",
    "print(res[res.names.index('statistic')])\n",
    "print(res[res.names.index('p.value')])"
   ]
  },
  {
   "cell_type": "markdown",
   "metadata": {},
   "source": [
    "#### Uncorrelated example"
   ]
  },
  {
   "cell_type": "code",
   "execution_count": 63,
   "metadata": {
    "collapsed": false,
    "scrolled": true
   },
   "outputs": [
    {
     "data": {
      "text/plain": [
       "'c(\"statistic\", \"parameter\", \"p.value\", \"conf.int\", \"estimate\", \\n\"null.value\", \"alternative\", \"method\", \"data.name\")'"
      ]
     },
     "execution_count": 63,
     "metadata": {},
     "output_type": "execute_result"
    },
    {
     "name": "stdout",
     "output_type": "stream",
     "text": [
      "        t \n",
      "-3.151858 \n",
      "\n",
      "[1] 0.001758482\n",
      "\n"
     ]
    }
   ],
   "source": [
    "some_numerical_with_noise_0_r = ro.FloatVector(some_numerical_with_noise_0)\n",
    "some_numerical_with_noise_1_r = ro.FloatVector(some_numerical_with_noise_1)\n",
    "res = ro.r('t.test')(some_numerical_with_noise_0_r, \n",
    "                     some_numerical_with_noise_1_r)\n",
    "res.names.r_repr()\n",
    "print(res[res.names.index('statistic')])\n",
    "print(res[res.names.index('p.value')])"
   ]
  },
  {
   "cell_type": "markdown",
   "metadata": {},
   "source": [
    "## Analysis of Variance"
   ]
  },
  {
   "cell_type": "markdown",
   "metadata": {},
   "source": [
    "### Python"
   ]
  },
  {
   "cell_type": "markdown",
   "metadata": {},
   "source": [
    "#### Correlated example"
   ]
  },
  {
   "cell_type": "code",
   "execution_count": 64,
   "metadata": {
    "collapsed": false
   },
   "outputs": [],
   "source": [
    "numerical_correlated_to_some_categorical_values = []\n",
    "for v in set(some_random_int):\n",
    "    numerical_correlated_to_some_categorical_values.append(\n",
    "        numerical_correlated_to_some_categorical[np.where(some_random_int==v)]\n",
    "    )"
   ]
  },
  {
   "cell_type": "code",
   "execution_count": 65,
   "metadata": {
    "collapsed": false,
    "scrolled": false
   },
   "outputs": [
    {
     "data": {
      "text/plain": [
       "F_onewayResult(statistic=164.10411489014581, pvalue=1.8989795743851969e-55)"
      ]
     },
     "execution_count": 65,
     "metadata": {},
     "output_type": "execute_result"
    }
   ],
   "source": [
    "scipy.stats.f_oneway(*numerical_correlated_to_some_categorical_values)"
   ]
  },
  {
   "cell_type": "code",
   "execution_count": 66,
   "metadata": {
    "collapsed": false
   },
   "outputs": [],
   "source": [
    "df = pd.DataFrame({\n",
    "        'col_cat': some_random_int,\n",
    "        'col_num': numerical_correlated_to_some_categorical,\n",
    "    })"
   ]
  },
  {
   "cell_type": "code",
   "execution_count": 72,
   "metadata": {
    "collapsed": false,
    "scrolled": true
   },
   "outputs": [
    {
     "data": {
      "text/plain": [
       "F_onewayResult(statistic=164.10411489014575, pvalue=1.8989795743851969e-55)"
      ]
     },
     "execution_count": 72,
     "metadata": {},
     "output_type": "execute_result"
    }
   ],
   "source": [
    "ds_utils.stats.df_anova(df, 'col_num', 'col_cat')"
   ]
  },
  {
   "cell_type": "markdown",
   "metadata": {},
   "source": [
    "#### Uncorrelated example"
   ]
  },
  {
   "cell_type": "code",
   "execution_count": 73,
   "metadata": {
    "collapsed": false
   },
   "outputs": [],
   "source": [
    "some_numerical_with_noise_values = []\n",
    "for v in set(some_random_int):\n",
    "    some_numerical_with_noise_values.append(\n",
    "        some_numerical_with_noise[np.where(some_random_int==v)]\n",
    "    )"
   ]
  },
  {
   "cell_type": "code",
   "execution_count": 74,
   "metadata": {
    "collapsed": false,
    "scrolled": false
   },
   "outputs": [
    {
     "data": {
      "text/plain": [
       "F_onewayResult(statistic=4.8802315262605536, pvalue=0.007963163070415346)"
      ]
     },
     "execution_count": 74,
     "metadata": {},
     "output_type": "execute_result"
    }
   ],
   "source": [
    "scipy.stats.f_oneway(*some_numerical_with_noise_values)"
   ]
  },
  {
   "cell_type": "markdown",
   "metadata": {},
   "source": [
    "### R"
   ]
  },
  {
   "cell_type": "markdown",
   "metadata": {},
   "source": [
    "#### Correlated example"
   ]
  },
  {
   "cell_type": "code",
   "execution_count": 75,
   "metadata": {
    "collapsed": false,
    "scrolled": true
   },
   "outputs": [
    {
     "name": "stdout",
     "output_type": "stream",
     "text": [
      "             Df Sum Sq Mean Sq F value Pr(>F)    \n",
      "cat           2  334.2  167.12   164.1 <2e-16 ***\n",
      "Residuals   497  506.1    1.02                   \n",
      "---\n",
      "Signif. codes:  0 ‘***’ 0.001 ‘**’ 0.01 ‘*’ 0.05 ‘.’ 0.1 ‘ ’ 1\n",
      "\n"
     ]
    }
   ],
   "source": [
    "df = ro.DataFrame({'num':numerical_correlated_to_some_categorical_r, 'cat': some_categorical_r})\n",
    "aov_res = ro.r('aov')(ro.Formula('num~cat'), df)\n",
    "print(base.summary(aov_res))"
   ]
  },
  {
   "cell_type": "markdown",
   "metadata": {},
   "source": [
    "#### Uncorrelated example"
   ]
  },
  {
   "cell_type": "code",
   "execution_count": 76,
   "metadata": {
    "collapsed": false,
    "scrolled": false
   },
   "outputs": [
    {
     "name": "stdout",
     "output_type": "stream",
     "text": [
      "             Df Sum Sq Mean Sq F value  Pr(>F)   \n",
      "cat           2   0.89  0.4428    4.88 0.00796 **\n",
      "Residuals   497  45.09  0.0907                   \n",
      "---\n",
      "Signif. codes:  0 ‘***’ 0.001 ‘**’ 0.01 ‘*’ 0.05 ‘.’ 0.1 ‘ ’ 1\n",
      "\n"
     ]
    }
   ],
   "source": [
    "df = ro.DataFrame({'num':some_numerical_with_noise_r, 'cat': some_categorical_r})\n",
    "aov_res = ro.r('aov')(ro.Formula('num~cat'), df)\n",
    "print(base.summary(aov_res))"
   ]
  },
  {
   "cell_type": "markdown",
   "metadata": {},
   "source": [
    "References: \n",
    "- http://stats.stackexchange.com/questions/108007/correlations-with-categorical-variables\n",
    "- http://www.ats.ucla.edu/stat/mult_pkg/whatstat/default.htm"
   ]
  }
 ],
 "metadata": {
  "anaconda-cloud": {},
  "kernelspec": {
   "display_name": "Python 3",
   "language": "python",
   "name": "python3"
  },
  "language_info": {
   "codemirror_mode": {
    "name": "ipython",
    "version": 3
   },
   "file_extension": ".py",
   "mimetype": "text/x-python",
   "name": "python",
   "nbconvert_exporter": "python",
   "pygments_lexer": "ipython3",
   "version": "3.6.0"
  },
  "toc": {
   "colors": {
    "hover_highlight": "#DAA520",
    "running_highlight": "#FF0000",
    "selected_highlight": "#FFD700"
   },
   "moveMenuLeft": true,
   "nav_menu": {
    "height": "12px",
    "width": "252px"
   },
   "navigate_menu": true,
   "number_sections": true,
   "sideBar": true,
   "threshold": 4,
   "toc_cell": false,
   "toc_position": {
    "height": "474px",
    "left": "0px",
    "right": "903.8px",
    "top": "107px",
    "width": "248px"
   },
   "toc_section_display": "block",
   "toc_window_display": true,
   "widenNotebook": false
  }
 },
 "nbformat": 4,
 "nbformat_minor": 1
}

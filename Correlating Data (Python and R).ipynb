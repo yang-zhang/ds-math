{
 "cells": [
  {
   "cell_type": "code",
   "execution_count": 138,
   "metadata": {
    "collapsed": true
   },
   "outputs": [],
   "source": [
    "%matplotlib inline\n",
    "import numpy as np\n",
    "import pandas as pd\n",
    "import scipy.stats\n",
    "import matplotlib.pyplot as plt\n",
    "\n",
    "from IPython.core.interactiveshell import InteractiveShell\n",
    "InteractiveShell.ast_node_interactivity = \"all\"\n",
    "\n",
    "import rpy2.robjects as ro\n",
    "from rpy2.robjects.packages import importr"
   ]
  },
  {
   "cell_type": "code",
   "execution_count": 139,
   "metadata": {
    "collapsed": true
   },
   "outputs": [],
   "source": [
    "base = importr('base')"
   ]
  },
  {
   "cell_type": "markdown",
   "metadata": {},
   "source": [
    "This note book demonstrates various methods to measure correlations between data (numerical and categorical), both in Python and in R. \n",
    "\n",
    "(Still under heavy construction.)"
   ]
  },
  {
   "cell_type": "markdown",
   "metadata": {},
   "source": [
    "# Make data"
   ]
  },
  {
   "cell_type": "code",
   "execution_count": 140,
   "metadata": {
    "collapsed": true
   },
   "outputs": [],
   "source": [
    "N = 100"
   ]
  },
  {
   "cell_type": "markdown",
   "metadata": {},
   "source": [
    "## Numericals"
   ]
  },
  {
   "cell_type": "code",
   "execution_count": 141,
   "metadata": {
    "collapsed": true
   },
   "outputs": [],
   "source": [
    "some_numerical = np.random.uniform(0, 1, N)\n",
    "some_numerical_with_noise = some_numerical + 0.1*np.random.randn(N)\n",
    "\n",
    "some_numerical_r = ro.FloatVector(some_numerical)\n",
    "some_numerical_with_noise_r = ro.FloatVector(some_numerical_with_noise)"
   ]
  },
  {
   "cell_type": "markdown",
   "metadata": {},
   "source": [
    "## Categoricals"
   ]
  },
  {
   "cell_type": "code",
   "execution_count": 142,
   "metadata": {
    "collapsed": true
   },
   "outputs": [],
   "source": [
    "def generate_random_ints(num_categories, N):\n",
    "    some_random_int = np.random.randint(0, num_categories, N)\n",
    "    correlated_random_int = some_random_int.copy()\n",
    "    \n",
    "    for i in range(len(some_random_int)):\n",
    "        if np.random.uniform(0, 1)>0.9:\n",
    "            correlated_random_int[i]=np.random.randint(0, num_categories, 1)\n",
    "    return some_random_int, correlated_random_int"
   ]
  },
  {
   "cell_type": "markdown",
   "metadata": {},
   "source": [
    "### Binary"
   ]
  },
  {
   "cell_type": "code",
   "execution_count": 143,
   "metadata": {
    "collapsed": false,
    "scrolled": true
   },
   "outputs": [],
   "source": [
    "some_random_int_binary, correlated_random_int = generate_random_ints(2, N)\n",
    "\n",
    "some_random_int_binary_r = ro.IntVector(some_random_int_binary)\n",
    "correlated_random_int_r = ro.IntVector(correlated_random_int)\n",
    "        \n",
    "some_categorical_binary = [str(i) for i in some_random_int_binary]\n",
    "correlated_binary = [str(i) for i in correlated_random_int] \n",
    "\n",
    "some_categorical_binary_r = ro.FactorVector(some_categorical_binary)\n",
    "correlated_binary_r = ro.FactorVector(correlated_binary)"
   ]
  },
  {
   "cell_type": "markdown",
   "metadata": {},
   "source": [
    "### Multiple "
   ]
  },
  {
   "cell_type": "code",
   "execution_count": 144,
   "metadata": {
    "collapsed": false,
    "scrolled": true
   },
   "outputs": [],
   "source": [
    "some_random_int_multiple, correlated_random_int_multiple = generate_random_ints(5, N)\n",
    "\n",
    "some_random_int_multiple_r = ro.IntVector(some_random_int_multiple)\n",
    "correlated_random_int_multiple_r = ro.IntVector(correlated_random_int_multiple)\n",
    "        \n",
    "some_categorical_multiple = [str(i) for i in some_random_int_multiple]\n",
    "correlated_multiple = [str(i) for i in some_random_int_multiple] \n",
    "\n",
    "some_categorical_multiple_r = ro.FactorVector(some_categorical_multiple)\n",
    "correlated_multiple_r = ro.FactorVector(correlated_multiple)"
   ]
  },
  {
   "cell_type": "markdown",
   "metadata": {},
   "source": [
    "## Numerical v.s. categorical"
   ]
  },
  {
   "cell_type": "markdown",
   "metadata": {},
   "source": [
    "### Binary categorical"
   ]
  },
  {
   "cell_type": "code",
   "execution_count": 145,
   "metadata": {
    "collapsed": false
   },
   "outputs": [],
   "source": [
    "numerical_correlated_to_some_categorical_binary = np.array([np.random.normal(0, 1) if c=='0' else np.random.normal(1, 1) for c in some_categorical_binary])\n",
    "numerical_correlated_to_some_categorical_binary_r = ro.FloatVector(numerical_correlated_to_some_categorical_binary)"
   ]
  },
  {
   "cell_type": "code",
   "execution_count": 146,
   "metadata": {
    "collapsed": false,
    "scrolled": true
   },
   "outputs": [
    {
     "data": {
      "image/png": "[encoded data removed]",
      "text/plain": [
       "<matplotlib.figure.Figure at 0x115e1d990>"
      ]
     },
     "metadata": {},
     "output_type": "display_data"
    }
   ],
   "source": [
    "plt.plot(numerical_correlated_to_some_categorical_binary, correlated_random_int, '.');"
   ]
  },
  {
   "cell_type": "markdown",
   "metadata": {},
   "source": [
    "### Multiple categorical"
   ]
  },
  {
   "cell_type": "code",
   "execution_count": 147,
   "metadata": {
    "collapsed": false,
    "scrolled": true
   },
   "outputs": [],
   "source": [
    "numerical_correlated_to_some_categorical_multiple = np.array([np.random.normal(int(c), 1) for c in some_categorical_multiple])\n",
    "numerical_correlated_to_some_categorical_multiple_r = ro.FloatVector(numerical_correlated_to_some_categorical_multiple)"
   ]
  },
  {
   "cell_type": "code",
   "execution_count": 148,
   "metadata": {
    "collapsed": false,
    "scrolled": false
   },
   "outputs": [
    {
     "data": {
      "image/png": "[encoded data removed]",
      "text/plain": [
       "<matplotlib.figure.Figure at 0x1171a85d0>"
      ]
     },
     "metadata": {},
     "output_type": "display_data"
    }
   ],
   "source": [
    "plt.plot(numerical_correlated_to_some_categorical_multiple, some_categorical_multiple, '.');"
   ]
  },
  {
   "cell_type": "markdown",
   "metadata": {},
   "source": [
    "# Numerical v.s. numerical"
   ]
  },
  {
   "cell_type": "markdown",
   "metadata": {},
   "source": [
    "## Pearson correlation coefficient"
   ]
  },
  {
   "cell_type": "code",
   "execution_count": 149,
   "metadata": {
    "collapsed": false,
    "scrolled": false
   },
   "outputs": [
    {
     "data": {
      "text/plain": [
       "(0.94200443993985927, 2.8921444169664683e-48)"
      ]
     },
     "execution_count": 149,
     "metadata": {},
     "output_type": "execute_result"
    }
   ],
   "source": [
    "scipy.stats.pearsonr(some_numerical, some_numerical_with_noise)"
   ]
  },
  {
   "cell_type": "code",
   "execution_count": 150,
   "metadata": {
    "collapsed": false,
    "scrolled": false
   },
   "outputs": [
    {
     "name": "stdout",
     "output_type": "stream",
     "text": [
      "[1] 0.9420044\n",
      "\n"
     ]
    }
   ],
   "source": [
    "print ro.r.cor(some_numerical_r, some_numerical_with_noise_r)"
   ]
  },
  {
   "cell_type": "markdown",
   "metadata": {},
   "source": [
    "# Categorical v.s. categorical"
   ]
  },
  {
   "cell_type": "markdown",
   "metadata": {},
   "source": [
    "## Chi-square"
   ]
  },
  {
   "cell_type": "markdown",
   "metadata": {},
   "source": [
    "### Binary"
   ]
  },
  {
   "cell_type": "code",
   "execution_count": 151,
   "metadata": {
    "collapsed": false,
    "scrolled": true
   },
   "outputs": [
    {
     "data": {
      "text/plain": [
       "'c(\"statistic\", \"parameter\", \"p.value\", \"method\", \"data.name\", \\n\"observed\", \"expected\", \"residuals\", \"stdres\")'"
      ]
     },
     "execution_count": 151,
     "metadata": {},
     "output_type": "execute_result"
    },
    {
     "name": "stdout",
     "output_type": "stream",
     "text": [
      "X-squared \n",
      "  84.4236 \n",
      "\n",
      "[1] 3.993526e-20\n",
      "\n"
     ]
    }
   ],
   "source": [
    "res = ro.r('chisq.test')(some_categorical_binary_r, correlated_binary_r)\n",
    "res.names.r_repr()\n",
    "print res[res.names.index('statistic')]\n",
    "print res[res.names.index('p.value')]"
   ]
  },
  {
   "cell_type": "markdown",
   "metadata": {},
   "source": [
    "### Multiple"
   ]
  },
  {
   "cell_type": "code",
   "execution_count": 152,
   "metadata": {
    "collapsed": false
   },
   "outputs": [
    {
     "data": {
      "text/plain": [
       "'c(\"statistic\", \"parameter\", \"p.value\", \"method\", \"data.name\", \\n\"observed\", \"expected\", \"residuals\", \"stdres\")'"
      ]
     },
     "execution_count": 152,
     "metadata": {},
     "output_type": "execute_result"
    },
    {
     "name": "stdout",
     "output_type": "stream",
     "text": [
      "X-squared \n",
      "      400 \n",
      "\n",
      "[1] 3.641455e-75\n",
      "\n"
     ]
    }
   ],
   "source": [
    "res = ro.r('chisq.test')(some_categorical_multiple_r, correlated_multiple_r)\n",
    "res.names.r_repr()\n",
    "print res[res.names.index('statistic')]\n",
    "print res[res.names.index('p.value')]"
   ]
  },
  {
   "cell_type": "markdown",
   "metadata": {},
   "source": [
    "# Numerical v.s. categorical"
   ]
  },
  {
   "cell_type": "markdown",
   "metadata": {},
   "source": [
    "## t-test"
   ]
  },
  {
   "cell_type": "markdown",
   "metadata": {},
   "source": [
    "### Python"
   ]
  },
  {
   "cell_type": "code",
   "execution_count": 153,
   "metadata": {
    "collapsed": false,
    "scrolled": false
   },
   "outputs": [
    {
     "data": {
      "text/plain": [
       "Ttest_indResult(statistic=-5.3776213267675397, pvalue=5.1290378306578222e-07)"
      ]
     },
     "execution_count": 153,
     "metadata": {},
     "output_type": "execute_result"
    }
   ],
   "source": [
    "numerical_correlated_to_some_categorical_binary_0 = numerical_correlated_to_some_categorical_binary[np.where(correlated_random_int==0)]\n",
    "numerical_correlated_to_some_categorical_binary_1 = numerical_correlated_to_some_categorical_binary[np.where(correlated_random_int==1)]\n",
    "scipy.stats.ttest_ind(numerical_correlated_to_some_categorical_binary_0, \n",
    "                      numerical_correlated_to_some_categorical_binary_1, \n",
    "                      axis=0, equal_var=True)"
   ]
  },
  {
   "cell_type": "code",
   "execution_count": 154,
   "metadata": {
    "collapsed": false,
    "scrolled": false
   },
   "outputs": [
    {
     "data": {
      "text/plain": [
       "Ttest_indResult(statistic=0.96677584126505345, pvalue=0.33603590071955858)"
      ]
     },
     "execution_count": 154,
     "metadata": {},
     "output_type": "execute_result"
    }
   ],
   "source": [
    "some_numerical_with_noise_0=some_numerical_with_noise[np.where(correlated_random_int==0)]\n",
    "some_numerical_with_noise_1=some_numerical_with_noise[np.where(correlated_random_int==1)]\n",
    "scipy.stats.ttest_ind(some_numerical_with_noise_0, \n",
    "                      some_numerical_with_noise_1,\n",
    "                      axis=0, equal_var=True)"
   ]
  },
  {
   "cell_type": "markdown",
   "metadata": {},
   "source": [
    "### R"
   ]
  },
  {
   "cell_type": "markdown",
   "metadata": {},
   "source": [
    "Correlated"
   ]
  },
  {
   "cell_type": "code",
   "execution_count": 155,
   "metadata": {
    "collapsed": false,
    "scrolled": false
   },
   "outputs": [
    {
     "data": {
      "text/plain": [
       "'c(\"statistic\", \"parameter\", \"p.value\", \"conf.int\", \"estimate\", \\n\"null.value\", \"alternative\", \"method\", \"data.name\")'"
      ]
     },
     "execution_count": 155,
     "metadata": {},
     "output_type": "execute_result"
    },
    {
     "name": "stdout",
     "output_type": "stream",
     "text": [
      "       t \n",
      "-5.30807 \n",
      "\n",
      "[1] 8.314932e-07\n",
      "\n"
     ]
    }
   ],
   "source": [
    "numerical_correlated_to_some_categorical_binary_0_r = ro.FloatVector(numerical_correlated_to_some_categorical_binary_0)\n",
    "numerical_correlated_to_some_categorical_binary_1_r = ro.FloatVector(numerical_correlated_to_some_categorical_binary_1)\n",
    "res = ro.r('t.test')(numerical_correlated_to_some_categorical_binary_0_r, \n",
    "                     numerical_correlated_to_some_categorical_binary_1_r)\n",
    "res.names.r_repr()\n",
    "print res[res.names.index('statistic')]\n",
    "print res[res.names.index('p.value')]"
   ]
  },
  {
   "cell_type": "markdown",
   "metadata": {},
   "source": [
    "Uncorrelated"
   ]
  },
  {
   "cell_type": "code",
   "execution_count": 156,
   "metadata": {
    "collapsed": false,
    "scrolled": true
   },
   "outputs": [
    {
     "data": {
      "text/plain": [
       "'c(\"statistic\", \"parameter\", \"p.value\", \"conf.int\", \"estimate\", \\n\"null.value\", \"alternative\", \"method\", \"data.name\")'"
      ]
     },
     "execution_count": 156,
     "metadata": {},
     "output_type": "execute_result"
    },
    {
     "name": "stdout",
     "output_type": "stream",
     "text": [
      "        t \n",
      "0.9518389 \n",
      "\n",
      "[1] 0.3438399\n",
      "\n"
     ]
    }
   ],
   "source": [
    "some_numerical_with_noise_0_r = ro.FloatVector(some_numerical_with_noise_0)\n",
    "some_numerical_with_noise_1_r = ro.FloatVector(some_numerical_with_noise_1)\n",
    "res = ro.r('t.test')(some_numerical_with_noise_0_r, \n",
    "                     some_numerical_with_noise_1_r)\n",
    "res.names.r_repr()\n",
    "print res[res.names.index('statistic')]\n",
    "print res[res.names.index('p.value')]"
   ]
  },
  {
   "cell_type": "markdown",
   "metadata": {},
   "source": [
    "## Analysis of Variance"
   ]
  },
  {
   "cell_type": "markdown",
   "metadata": {},
   "source": [
    "### Python"
   ]
  },
  {
   "cell_type": "code",
   "execution_count": 157,
   "metadata": {
    "collapsed": false,
    "scrolled": true
   },
   "outputs": [
    {
     "data": {
      "text/plain": [
       "F_onewayResult(statistic=28.918811134105074, pvalue=5.1290378306578138e-07)"
      ]
     },
     "execution_count": 157,
     "metadata": {},
     "output_type": "execute_result"
    }
   ],
   "source": [
    "scipy.stats.f_oneway(numerical_correlated_to_some_categorical_binary[np.where(correlated_random_int==0)], numerical_correlated_to_some_categorical_binary[np.where(correlated_random_int==1)])"
   ]
  },
  {
   "cell_type": "code",
   "execution_count": 158,
   "metadata": {
    "collapsed": false,
    "scrolled": false
   },
   "outputs": [
    {
     "data": {
      "text/plain": [
       "F_onewayResult(statistic=0.93465552725374812, pvalue=0.33603590071955725)"
      ]
     },
     "execution_count": 158,
     "metadata": {},
     "output_type": "execute_result"
    }
   ],
   "source": [
    "scipy.stats.f_oneway(some_numerical_with_noise[np.where(correlated_random_int==0)], some_numerical_with_noise[np.where(correlated_random_int==1)])"
   ]
  },
  {
   "cell_type": "markdown",
   "metadata": {},
   "source": [
    "### R"
   ]
  },
  {
   "cell_type": "markdown",
   "metadata": {},
   "source": [
    "#### Binary"
   ]
  },
  {
   "cell_type": "markdown",
   "metadata": {},
   "source": [
    "##### Correlated"
   ]
  },
  {
   "cell_type": "code",
   "execution_count": 159,
   "metadata": {
    "collapsed": false,
    "scrolled": false
   },
   "outputs": [
    {
     "name": "stdout",
     "output_type": "stream",
     "text": [
      "            Df Sum Sq Mean Sq F value   Pr(>F)    \n",
      "cat          1  30.64   30.64   28.92 5.13e-07 ***\n",
      "Residuals   98 103.84    1.06                     \n",
      "---\n",
      "Signif. codes:  0 ‘***’ 0.001 ‘**’ 0.01 ‘*’ 0.05 ‘.’ 0.1 ‘ ’ 1\n",
      "\n"
     ]
    }
   ],
   "source": [
    "df = ro.DataFrame({'num':numerical_correlated_to_some_categorical_binary_r, 'cat': correlated_binary_r})\n",
    "aov_res = ro.r('aov')(ro.Formula('num~cat'), df)\n",
    "print base.summary(aov_res)"
   ]
  },
  {
   "cell_type": "markdown",
   "metadata": {},
   "source": [
    "##### Uncorrelated"
   ]
  },
  {
   "cell_type": "code",
   "execution_count": 160,
   "metadata": {
    "collapsed": false,
    "scrolled": true
   },
   "outputs": [
    {
     "name": "stdout",
     "output_type": "stream",
     "text": [
      "            Df Sum Sq Mean Sq F value Pr(>F)\n",
      "cat          1  0.099 0.09927   1.044   0.31\n",
      "Residuals   98  9.322 0.09513               \n",
      "\n"
     ]
    }
   ],
   "source": [
    "df = ro.DataFrame({'num':some_numerical_with_noise_r, 'cat': some_categorical_binary_r})\n",
    "aov_res = ro.r('aov')(ro.Formula('num~cat'), df)\n",
    "print base.summary(aov_res)"
   ]
  },
  {
   "cell_type": "markdown",
   "metadata": {},
   "source": [
    "#### Multiple"
   ]
  },
  {
   "cell_type": "markdown",
   "metadata": {},
   "source": [
    "##### Correlated"
   ]
  },
  {
   "cell_type": "code",
   "execution_count": 161,
   "metadata": {
    "collapsed": false,
    "scrolled": true
   },
   "outputs": [
    {
     "name": "stdout",
     "output_type": "stream",
     "text": [
      "            Df Sum Sq Mean Sq F value Pr(>F)    \n",
      "cat          4  184.4   46.09   41.44 <2e-16 ***\n",
      "Residuals   95  105.7    1.11                   \n",
      "---\n",
      "Signif. codes:  0 ‘***’ 0.001 ‘**’ 0.01 ‘*’ 0.05 ‘.’ 0.1 ‘ ’ 1\n",
      "\n"
     ]
    }
   ],
   "source": [
    "df = ro.DataFrame({'num':numerical_correlated_to_some_categorical_multiple_r, 'cat': some_categorical_multiple_r})\n",
    "aov_res = ro.r('aov')(ro.Formula('num~cat'), df)\n",
    "print base.summary(aov_res)"
   ]
  },
  {
   "cell_type": "markdown",
   "metadata": {},
   "source": [
    "##### Uncorrelated"
   ]
  },
  {
   "cell_type": "code",
   "execution_count": 162,
   "metadata": {
    "collapsed": false,
    "scrolled": false
   },
   "outputs": [
    {
     "name": "stdout",
     "output_type": "stream",
     "text": [
      "            Df Sum Sq Mean Sq F value Pr(>F)\n",
      "cat          4  0.091 0.02285   0.233  0.919\n",
      "Residuals   95  9.330 0.09821               \n",
      "\n"
     ]
    }
   ],
   "source": [
    "df = ro.DataFrame({'num':some_numerical_with_noise_r, 'cat': some_categorical_multiple_r})\n",
    "aov_res = ro.r('aov')(ro.Formula('num~cat'), df)\n",
    "print base.summary(aov_res)"
   ]
  },
  {
   "cell_type": "markdown",
   "metadata": {},
   "source": [
    "References: \n",
    "- http://stats.stackexchange.com/questions/108007/correlations-with-categorical-variables\n",
    "- http://www.ats.ucla.edu/stat/mult_pkg/whatstat/default.htm"
   ]
  }
 ],
 "metadata": {
  "anaconda-cloud": {},
  "kernelspec": {
   "display_name": "Python [conda env:r]",
   "language": "python",
   "name": "conda-env-r-py"
  },
  "language_info": {
   "codemirror_mode": {
    "name": "ipython",
    "version": 2
   },
   "file_extension": ".py",
   "mimetype": "text/x-python",
   "name": "python",
   "nbconvert_exporter": "python",
   "pygments_lexer": "ipython2",
   "version": "2.7.12"
  },
  "toc": {
   "colors": {
    "hover_highlight": "#DAA520",
    "running_highlight": "#FF0000",
    "selected_highlight": "#FFD700"
   },
   "moveMenuLeft": true,
   "nav_menu": {
    "height": "12px",
    "width": "252px"
   },
   "navigate_menu": true,
   "number_sections": true,
   "sideBar": true,
   "threshold": 4,
   "toc_cell": false,
   "toc_position": {
    "height": "474px",
    "left": "0px",
    "right": "940px",
    "top": "107px",
    "width": "212px"
   },
   "toc_section_display": "block",
   "toc_window_display": true
  }
 },
 "nbformat": 4,
 "nbformat_minor": 1
}

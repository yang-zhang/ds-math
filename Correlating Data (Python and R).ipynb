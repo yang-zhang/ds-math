{
 "cells": [
  {
   "cell_type": "code",
   "execution_count": 35,
   "metadata": {
    "collapsed": true
   },
   "outputs": [],
   "source": [
    "%matplotlib inline\n",
    "import numpy as np\n",
    "import pandas as pd\n",
    "import scipy.stats\n",
    "import matplotlib.pyplot as plt\n",
    "\n",
    "from IPython.core.interactiveshell import InteractiveShell\n",
    "InteractiveShell.ast_node_interactivity = \"all\"\n",
    "\n",
    "import rpy2.robjects as ro\n",
    "from rpy2.robjects.packages import importr"
   ]
  },
  {
   "cell_type": "code",
   "execution_count": 36,
   "metadata": {
    "collapsed": true
   },
   "outputs": [],
   "source": [
    "base = importr('base')"
   ]
  },
  {
   "cell_type": "markdown",
   "metadata": {},
   "source": [
    "This note book demonstrates various methods to measure correlations between data (numerical and categorical), both in Python and in R. \n",
    "\n",
    "(Still under heavy construction.)"
   ]
  },
  {
   "cell_type": "markdown",
   "metadata": {},
   "source": [
    "# Make data"
   ]
  },
  {
   "cell_type": "code",
   "execution_count": 37,
   "metadata": {
    "collapsed": true
   },
   "outputs": [],
   "source": [
    "N = 1000"
   ]
  },
  {
   "cell_type": "markdown",
   "metadata": {},
   "source": [
    "## Numericals"
   ]
  },
  {
   "cell_type": "code",
   "execution_count": 38,
   "metadata": {
    "collapsed": true
   },
   "outputs": [],
   "source": [
    "numerical_1 = np.random.uniform(0, 1, N)\n",
    "numerical_2 = numerical_1 + 0.1*np.random.randn(N)\n",
    "\n",
    "numerical_1_r = ro.FloatVector(numerical_1)\n",
    "numerical_2_r = ro.FloatVector(numerical_2)"
   ]
  },
  {
   "cell_type": "markdown",
   "metadata": {},
   "source": [
    "## Categoricals"
   ]
  },
  {
   "cell_type": "code",
   "execution_count": 39,
   "metadata": {
    "collapsed": true
   },
   "outputs": [],
   "source": [
    "def generate_rints(num_categories, N):\n",
    "    rint_1 = np.random.randint(0, num_categories, N)\n",
    "    rint_2 = rint_1.copy()\n",
    "    \n",
    "    for i in range(len(rint_1)):\n",
    "        if np.random.uniform(0, 1)>0.9:\n",
    "            rint_2[i]=np.random.randint(0, num_categories, 1)\n",
    "    return rint_1, rint_2"
   ]
  },
  {
   "cell_type": "markdown",
   "metadata": {},
   "source": [
    "### Binary"
   ]
  },
  {
   "cell_type": "code",
   "execution_count": 40,
   "metadata": {
    "collapsed": false,
    "scrolled": true
   },
   "outputs": [],
   "source": [
    "rint_binary_1, rint_binary_2 = generate_rints(2, N)\n",
    "\n",
    "rint_binary_1_r = ro.IntVector(rint_binary_1)\n",
    "rint_binary_2_r = ro.IntVector(rint_binary_2)\n",
    "        \n",
    "categorical_binary_1 = [str(i) for i in rint_binary_1]\n",
    "categorical_binary_2 = [str(i) for i in rint_binary_2] \n",
    "\n",
    "categorical_binary_1_r = ro.FactorVector(categorical_binary_1)\n",
    "categorical_binary_2_r = ro.FactorVector(categorical_binary_2)"
   ]
  },
  {
   "cell_type": "markdown",
   "metadata": {},
   "source": [
    "### Multiple "
   ]
  },
  {
   "cell_type": "code",
   "execution_count": 41,
   "metadata": {
    "collapsed": false,
    "scrolled": true
   },
   "outputs": [],
   "source": [
    "rint_multi_1, rint_multi_2 = generate_rints(5, N)\n",
    "\n",
    "rint_multi_1_r = ro.IntVector(rint_multi_1)\n",
    "rint_multi_2_r = ro.IntVector(rint_multi_2)\n",
    "        \n",
    "categorical_multi_1 = [str(i) for i in rint_multi_1]\n",
    "categorical_multi_2 = [str(i) for i in rint_multi_1] \n",
    "\n",
    "categorical_multi_1_r = ro.FactorVector(categorical_multi_1)\n",
    "categorical_multi_2_r = ro.FactorVector(categorical_multi_2)"
   ]
  },
  {
   "cell_type": "markdown",
   "metadata": {},
   "source": [
    "## Correlated numerical and categorical"
   ]
  },
  {
   "cell_type": "code",
   "execution_count": 42,
   "metadata": {
    "collapsed": false
   },
   "outputs": [],
   "source": [
    "numerical_3 = np.array([np.random.normal(0, 1) if c==0 else np.random.normal(1, 1) for c in rint_binary_2])\n",
    "numerical_3_r = ro.FloatVector(numerical_3)"
   ]
  },
  {
   "cell_type": "code",
   "execution_count": 43,
   "metadata": {
    "collapsed": false
   },
   "outputs": [],
   "source": [
    "numerical_3 = np.array([np.random.normal(0, 1) if c==0 else np.random.normal(1, 1) for c in rint_binary_2])\n",
    "numerical_3_r = ro.FloatVector(numerical_3)"
   ]
  },
  {
   "cell_type": "code",
   "execution_count": 44,
   "metadata": {
    "collapsed": false,
    "scrolled": false
   },
   "outputs": [
    {
     "data": {
      "image/png": "[encoded data removed]",
      "text/plain": [
       "<matplotlib.figure.Figure at 0x117c2cd90>"
      ]
     },
     "metadata": {},
     "output_type": "display_data"
    }
   ],
   "source": [
    "plt.plot(numerical_3, rint_binary_2, '.');"
   ]
  },
  {
   "cell_type": "markdown",
   "metadata": {},
   "source": [
    "# Numerical v.s. numerical"
   ]
  },
  {
   "cell_type": "markdown",
   "metadata": {},
   "source": [
    "## Pearson correlation coefficient"
   ]
  },
  {
   "cell_type": "code",
   "execution_count": 45,
   "metadata": {
    "collapsed": false,
    "scrolled": false
   },
   "outputs": [
    {
     "data": {
      "text/plain": [
       "(0.94693699325274561, 0.0)"
      ]
     },
     "execution_count": 45,
     "metadata": {},
     "output_type": "execute_result"
    }
   ],
   "source": [
    "scipy.stats.pearsonr(numerical_1, numerical_2)"
   ]
  },
  {
   "cell_type": "code",
   "execution_count": 46,
   "metadata": {
    "collapsed": false,
    "scrolled": false
   },
   "outputs": [
    {
     "name": "stdout",
     "output_type": "stream",
     "text": [
      "[1] 0.946937\n",
      "\n"
     ]
    }
   ],
   "source": [
    "print ro.r.cor(numerical_1_r, numerical_2_r)"
   ]
  },
  {
   "cell_type": "markdown",
   "metadata": {},
   "source": [
    "# numerical v.s. categorical"
   ]
  },
  {
   "cell_type": "markdown",
   "metadata": {},
   "source": [
    "## ttest"
   ]
  },
  {
   "cell_type": "markdown",
   "metadata": {},
   "source": [
    "### Correlated"
   ]
  },
  {
   "cell_type": "code",
   "execution_count": 47,
   "metadata": {
    "collapsed": false
   },
   "outputs": [
    {
     "data": {
      "text/plain": [
       "Ttest_indResult(statistic=-16.77756919550502, pvalue=7.6699889529633761e-56)"
      ]
     },
     "execution_count": 47,
     "metadata": {},
     "output_type": "execute_result"
    }
   ],
   "source": [
    "numerical_3_0 = numerical_3[np.where(rint_binary_2==0)]\n",
    "numerical_3_1 = numerical_3[np.where(rint_binary_2==1)]\n",
    "scipy.stats.ttest_ind(numerical_3_0, numerical_3_1, axis=0, equal_var=True)"
   ]
  },
  {
   "cell_type": "code",
   "execution_count": 55,
   "metadata": {
    "collapsed": false,
    "scrolled": false
   },
   "outputs": [
    {
     "data": {
      "text/plain": [
       "'c(\"statistic\", \"parameter\", \"p.value\", \"conf.int\", \"estimate\", \\n\"null.value\", \"alternative\", \"method\", \"data.name\")'"
      ]
     },
     "execution_count": 55,
     "metadata": {},
     "output_type": "execute_result"
    },
    {
     "name": "stdout",
     "output_type": "stream",
     "text": [
      "        t \n",
      "-16.78542 \n",
      "\n"
     ]
    }
   ],
   "source": [
    "numerical_3_0_r = ro.FloatVector(numerical_3_0)\n",
    "numerical_3_1_r = ro.FloatVector(numerical_3_1)\n",
    "res = ro.r('t.test')(numerical_3_0_r, numerical_3_1_r)\n",
    "res.names.r_repr()\n",
    "print res[res.names.index('statistic')]"
   ]
  },
  {
   "cell_type": "markdown",
   "metadata": {},
   "source": [
    "### Uncorrelated"
   ]
  },
  {
   "cell_type": "code",
   "execution_count": 49,
   "metadata": {
    "collapsed": false,
    "scrolled": true
   },
   "outputs": [
    {
     "data": {
      "text/plain": [
       "Ttest_indResult(statistic=-1.7435508702892273, pvalue=0.081545363139403138)"
      ]
     },
     "execution_count": 49,
     "metadata": {},
     "output_type": "execute_result"
    }
   ],
   "source": [
    "scipy.stats.ttest_ind(numerical_2[np.where(rint_binary_2==0)], numerical_2[np.where(rint_binary_2==1)], axis=0, equal_var=True)"
   ]
  },
  {
   "cell_type": "code",
   "execution_count": 50,
   "metadata": {
    "collapsed": false,
    "scrolled": false
   },
   "outputs": [
    {
     "data": {
      "text/plain": [
       "F_onewayResult(statistic=281.48682810995905, pvalue=7.6699889529665936e-56)"
      ]
     },
     "execution_count": 50,
     "metadata": {},
     "output_type": "execute_result"
    }
   ],
   "source": [
    "scipy.stats.f_oneway(numerical_3[np.where(rint_binary_2==0)], numerical_3[np.where(rint_binary_2==1)])"
   ]
  },
  {
   "cell_type": "markdown",
   "metadata": {},
   "source": [
    "## Analysis of Variance"
   ]
  },
  {
   "cell_type": "markdown",
   "metadata": {},
   "source": [
    "### Interesting case"
   ]
  },
  {
   "cell_type": "code",
   "execution_count": 51,
   "metadata": {
    "collapsed": false,
    "scrolled": true
   },
   "outputs": [
    {
     "name": "stdout",
     "output_type": "stream",
     "text": [
      "             Df Sum Sq Mean Sq F value Pr(>F)    \n",
      "cat           1  276.5  276.49   281.5 <2e-16 ***\n",
      "Residuals   998  980.3    0.98                   \n",
      "---\n",
      "Signif. codes:  0 ‘***’ 0.001 ‘**’ 0.01 ‘*’ 0.05 ‘.’ 0.1 ‘ ’ 1\n",
      "\n"
     ]
    }
   ],
   "source": [
    "df = ro.DataFrame({'num':numerical_3_r, 'cat': categorical_binary_2_r})\n",
    "aov_res = ro.r('aov')(ro.Formula('num~cat'), df)\n",
    "print base.summary(aov_res)"
   ]
  },
  {
   "cell_type": "code",
   "execution_count": 52,
   "metadata": {
    "collapsed": false,
    "scrolled": false
   },
   "outputs": [
    {
     "data": {
      "text/plain": [
       "F_onewayResult(statistic=3.0399696372863128, pvalue=0.081545363139449031)"
      ]
     },
     "execution_count": 52,
     "metadata": {},
     "output_type": "execute_result"
    }
   ],
   "source": [
    "scipy.stats.f_oneway(numerical_2[np.where(rint_binary_2==0)], numerical_2[np.where(rint_binary_2==1)])"
   ]
  },
  {
   "cell_type": "markdown",
   "metadata": {},
   "source": [
    "### Uninteresting case"
   ]
  },
  {
   "cell_type": "code",
   "execution_count": 53,
   "metadata": {
    "collapsed": false,
    "scrolled": true
   },
   "outputs": [
    {
     "name": "stdout",
     "output_type": "stream",
     "text": [
      "             Df Sum Sq Mean Sq F value Pr(>F)  \n",
      "cat           1   0.28 0.27859    3.04 0.0815 .\n",
      "Residuals   998  91.46 0.09164                 \n",
      "---\n",
      "Signif. codes:  0 ‘***’ 0.001 ‘**’ 0.01 ‘*’ 0.05 ‘.’ 0.1 ‘ ’ 1\n",
      "\n"
     ]
    }
   ],
   "source": [
    "df = ro.DataFrame({'num':numerical_2_r, 'cat': categorical_binary_2_r})\n",
    "aov_res = ro.r('aov')(ro.Formula('num~cat'), df)\n",
    "print base.summary(aov_res)"
   ]
  },
  {
   "cell_type": "code",
   "execution_count": 64,
   "metadata": {
    "collapsed": false,
    "scrolled": false
   },
   "outputs": [
    {
     "data": {
      "text/plain": [
       "'c(\"statistic\", \"parameter\", \"p.value\", \"method\", \"data.name\", \\n\"observed\", \"expected\", \"residuals\", \"stdres\")'"
      ]
     },
     "execution_count": 64,
     "metadata": {},
     "output_type": "execute_result"
    },
    {
     "name": "stdout",
     "output_type": "stream",
     "text": [
      "X-squared \n",
      " 810.0637 \n",
      "\n",
      "[1] 3.499772e-178\n",
      "\n"
     ]
    }
   ],
   "source": [
    "res = ro.r('chisq.test')(categorical_binary_1_r, categorical_binary_2_r)\n",
    "res.names.r_repr()\n",
    "print res[res.names.index('statistic')]\n",
    "print res[res.names.index('p.value')]"
   ]
  },
  {
   "cell_type": "markdown",
   "metadata": {},
   "source": [
    "Ref: http://stats.stackexchange.com/questions/108007/correlations-with-categorical-variables"
   ]
  }
 ],
 "metadata": {
  "anaconda-cloud": {},
  "kernelspec": {
   "display_name": "Python [conda env:r]",
   "language": "python",
   "name": "conda-env-r-py"
  },
  "language_info": {
   "codemirror_mode": {
    "name": "ipython",
    "version": 2
   },
   "file_extension": ".py",
   "mimetype": "text/x-python",
   "name": "python",
   "nbconvert_exporter": "python",
   "pygments_lexer": "ipython2",
   "version": "2.7.12"
  },
  "toc": {
   "colors": {
    "hover_highlight": "#DAA520",
    "running_highlight": "#FF0000",
    "selected_highlight": "#FFD700"
   },
   "moveMenuLeft": true,
   "nav_menu": {
    "height": "12px",
    "width": "252px"
   },
   "navigate_menu": true,
   "number_sections": true,
   "sideBar": true,
   "threshold": 4,
   "toc_cell": false,
   "toc_section_display": "block",
   "toc_window_display": true
  }
 },
 "nbformat": 4,
 "nbformat_minor": 1
}

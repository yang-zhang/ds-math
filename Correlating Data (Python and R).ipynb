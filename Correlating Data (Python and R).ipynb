{
 "cells": [
  {
   "cell_type": "code",
   "execution_count": 138,
   "metadata": {
    "collapsed": true
   },
   "outputs": [],
   "source": [
    "%matplotlib inline\n",
    "import numpy as np\n",
    "import pandas as pd\n",
    "import scipy.stats\n",
    "import matplotlib.pyplot as plt\n",
    "\n",
    "from IPython.core.interactiveshell import InteractiveShell\n",
    "InteractiveShell.ast_node_interactivity = \"all\"\n",
    "\n",
    "import rpy2.robjects as ro\n",
    "from rpy2.robjects.packages import importr"
   ]
  },
  {
   "cell_type": "code",
   "execution_count": 139,
   "metadata": {
    "collapsed": true
   },
   "outputs": [],
   "source": [
    "base = importr('base')"
   ]
  },
  {
   "cell_type": "markdown",
   "metadata": {},
   "source": [
    "This note book demonstrates various methods to measure correlations between data (numerical and categorical), both in Python and in R. \n",
    "\n",
    "(Still under heavy construction.)"
   ]
  },
  {
   "cell_type": "markdown",
   "metadata": {},
   "source": [
    "# Make data"
   ]
  },
  {
   "cell_type": "code",
   "execution_count": 198,
   "metadata": {
    "collapsed": true
   },
   "outputs": [],
   "source": [
    "N = 200"
   ]
  },
  {
   "cell_type": "markdown",
   "metadata": {},
   "source": [
    "## Numericals"
   ]
  },
  {
   "cell_type": "code",
   "execution_count": 199,
   "metadata": {
    "collapsed": true
   },
   "outputs": [],
   "source": [
    "some_numerical = np.random.uniform(0, 1, N)\n",
    "some_numerical_with_noise = some_numerical + 0.1*np.random.randn(N)\n",
    "\n",
    "some_numerical_r = ro.FloatVector(some_numerical)\n",
    "some_numerical_with_noise_r = ro.FloatVector(some_numerical_with_noise)"
   ]
  },
  {
   "cell_type": "markdown",
   "metadata": {},
   "source": [
    "## Categoricals"
   ]
  },
  {
   "cell_type": "code",
   "execution_count": 200,
   "metadata": {
    "collapsed": true
   },
   "outputs": [],
   "source": [
    "def generate_random_ints(num_categories, N):\n",
    "    some_random_int = np.random.randint(0, num_categories, N)\n",
    "    correlated_random_int = some_random_int.copy()\n",
    "    \n",
    "    for i in range(len(some_random_int)):\n",
    "        if np.random.uniform(0, 1)>0.9:\n",
    "            correlated_random_int[i]=np.random.randint(0, num_categories, 1)\n",
    "    return some_random_int, correlated_random_int"
   ]
  },
  {
   "cell_type": "code",
   "execution_count": 201,
   "metadata": {
    "collapsed": false,
    "scrolled": true
   },
   "outputs": [],
   "source": [
    "some_random_int, correlated_random_int = generate_random_ints(3, N)\n",
    "\n",
    "some_categorical_r = ro.FactorVector(some_random_int)\n",
    "correlated_categorical_r = ro.FactorVector(correlated_random_int)"
   ]
  },
  {
   "cell_type": "markdown",
   "metadata": {},
   "source": [
    "## Numerical v.s. categorical"
   ]
  },
  {
   "cell_type": "code",
   "execution_count": 202,
   "metadata": {
    "collapsed": false,
    "scrolled": true
   },
   "outputs": [],
   "source": [
    "numerical_correlated_to_some_categorical = np.array([np.random.normal(c, 1) for c in some_random_int])\n",
    "numerical_correlated_to_some_categorical_r = ro.FloatVector(numerical_correlated_to_some_categorical)"
   ]
  },
  {
   "cell_type": "code",
   "execution_count": 203,
   "metadata": {
    "collapsed": false,
    "scrolled": false
   },
   "outputs": [
    {
     "data": {
      "image/png": "[encoded data removed]",
      "text/plain": [
       "<matplotlib.figure.Figure at 0x11762f110>"
      ]
     },
     "metadata": {},
     "output_type": "display_data"
    }
   ],
   "source": [
    "plt.plot(numerical_correlated_to_some_categorical, some_random_int, '.');"
   ]
  },
  {
   "cell_type": "markdown",
   "metadata": {},
   "source": [
    "# Numerical v.s. numerical"
   ]
  },
  {
   "cell_type": "markdown",
   "metadata": {},
   "source": [
    "## Pearson correlation coefficient"
   ]
  },
  {
   "cell_type": "code",
   "execution_count": 204,
   "metadata": {
    "collapsed": false,
    "scrolled": false
   },
   "outputs": [
    {
     "data": {
      "text/plain": [
       "(0.94234151208093209, 4.4491046472656076e-96)"
      ]
     },
     "execution_count": 204,
     "metadata": {},
     "output_type": "execute_result"
    }
   ],
   "source": [
    "scipy.stats.pearsonr(some_numerical, some_numerical_with_noise)"
   ]
  },
  {
   "cell_type": "code",
   "execution_count": 205,
   "metadata": {
    "collapsed": false,
    "scrolled": false
   },
   "outputs": [
    {
     "name": "stdout",
     "output_type": "stream",
     "text": [
      "[1] 0.9423415\n",
      "\n"
     ]
    }
   ],
   "source": [
    "print ro.r.cor(some_numerical_r, some_numerical_with_noise_r)"
   ]
  },
  {
   "cell_type": "markdown",
   "metadata": {},
   "source": [
    "# Categorical v.s. categorical"
   ]
  },
  {
   "cell_type": "markdown",
   "metadata": {},
   "source": [
    "## Chi-square"
   ]
  },
  {
   "cell_type": "code",
   "execution_count": 206,
   "metadata": {
    "collapsed": false
   },
   "outputs": [
    {
     "data": {
      "text/plain": [
       "'c(\"statistic\", \"parameter\", \"p.value\", \"method\", \"data.name\", \\n\"observed\", \"expected\", \"residuals\", \"stdres\")'"
      ]
     },
     "execution_count": 206,
     "metadata": {},
     "output_type": "execute_result"
    },
    {
     "name": "stdout",
     "output_type": "stream",
     "text": [
      "X-squared \n",
      " 324.4725 \n",
      "\n",
      "[1] 5.682192e-69\n",
      "\n"
     ]
    }
   ],
   "source": [
    "res = ro.r('chisq.test')(some_categorical_r, correlated_categorical_r)\n",
    "res.names.r_repr()\n",
    "print res[res.names.index('statistic')]\n",
    "print res[res.names.index('p.value')]"
   ]
  },
  {
   "cell_type": "markdown",
   "metadata": {},
   "source": [
    "# Numerical v.s. categorical"
   ]
  },
  {
   "cell_type": "markdown",
   "metadata": {},
   "source": [
    "## t-test"
   ]
  },
  {
   "cell_type": "markdown",
   "metadata": {},
   "source": [
    "### Python"
   ]
  },
  {
   "cell_type": "markdown",
   "metadata": {},
   "source": [
    "#### Correlated"
   ]
  },
  {
   "cell_type": "code",
   "execution_count": 208,
   "metadata": {
    "collapsed": false,
    "scrolled": false
   },
   "outputs": [
    {
     "data": {
      "text/plain": [
       "Ttest_indResult(statistic=-4.8372631947516052, pvalue=3.6353225432322292e-06)"
      ]
     },
     "execution_count": 208,
     "metadata": {},
     "output_type": "execute_result"
    }
   ],
   "source": [
    "numerical_correlated_to_some_categorical_0 = numerical_correlated_to_some_categorical[np.where(some_random_int==0)]\n",
    "numerical_correlated_to_some_categorical_1 = numerical_correlated_to_some_categorical[np.where(some_random_int==1)]\n",
    "scipy.stats.ttest_ind(numerical_correlated_to_some_categorical_0, \n",
    "                      numerical_correlated_to_some_categorical_1, \n",
    "                      axis=0, equal_var=True)"
   ]
  },
  {
   "cell_type": "markdown",
   "metadata": {},
   "source": [
    "#### Uncorrelated"
   ]
  },
  {
   "cell_type": "code",
   "execution_count": 209,
   "metadata": {
    "collapsed": false,
    "scrolled": false
   },
   "outputs": [
    {
     "data": {
      "text/plain": [
       "Ttest_indResult(statistic=0.20768078580814722, pvalue=0.83580073387585363)"
      ]
     },
     "execution_count": 209,
     "metadata": {},
     "output_type": "execute_result"
    }
   ],
   "source": [
    "some_numerical_with_noise_0=some_numerical_with_noise[np.where(some_random_int==0)]\n",
    "some_numerical_with_noise_1=some_numerical_with_noise[np.where(some_random_int==1)]\n",
    "scipy.stats.ttest_ind(some_numerical_with_noise_0, \n",
    "                      some_numerical_with_noise_1,\n",
    "                      axis=0, equal_var=True)"
   ]
  },
  {
   "cell_type": "markdown",
   "metadata": {},
   "source": [
    "### R"
   ]
  },
  {
   "cell_type": "markdown",
   "metadata": {},
   "source": [
    "#### Correlated"
   ]
  },
  {
   "cell_type": "code",
   "execution_count": 210,
   "metadata": {
    "collapsed": false,
    "scrolled": true
   },
   "outputs": [
    {
     "data": {
      "text/plain": [
       "'c(\"statistic\", \"parameter\", \"p.value\", \"conf.int\", \"estimate\", \\n\"null.value\", \"alternative\", \"method\", \"data.name\")'"
      ]
     },
     "execution_count": 210,
     "metadata": {},
     "output_type": "execute_result"
    },
    {
     "name": "stdout",
     "output_type": "stream",
     "text": [
      "        t \n",
      "-4.702122 \n",
      "\n",
      "[1] 7.837209e-06\n",
      "\n"
     ]
    }
   ],
   "source": [
    "numerical_correlated_to_some_categorical_0_r = ro.FloatVector(numerical_correlated_to_some_categorical_0)\n",
    "numerical_correlated_to_some_categorical_1_r = ro.FloatVector(numerical_correlated_to_some_categorical_1)\n",
    "res = ro.r('t.test')(numerical_correlated_to_some_categorical_0_r, \n",
    "                     numerical_correlated_to_some_categorical_1_r)\n",
    "res.names.r_repr()\n",
    "print res[res.names.index('statistic')]\n",
    "print res[res.names.index('p.value')]"
   ]
  },
  {
   "cell_type": "markdown",
   "metadata": {},
   "source": [
    "#### Uncorrelated"
   ]
  },
  {
   "cell_type": "code",
   "execution_count": 211,
   "metadata": {
    "collapsed": false,
    "scrolled": true
   },
   "outputs": [
    {
     "data": {
      "text/plain": [
       "'c(\"statistic\", \"parameter\", \"p.value\", \"conf.int\", \"estimate\", \\n\"null.value\", \"alternative\", \"method\", \"data.name\")'"
      ]
     },
     "execution_count": 211,
     "metadata": {},
     "output_type": "execute_result"
    },
    {
     "name": "stdout",
     "output_type": "stream",
     "text": [
      "        t \n",
      "0.2071409 \n",
      "\n",
      "[1] 0.8362583\n",
      "\n"
     ]
    }
   ],
   "source": [
    "some_numerical_with_noise_0_r = ro.FloatVector(some_numerical_with_noise_0)\n",
    "some_numerical_with_noise_1_r = ro.FloatVector(some_numerical_with_noise_1)\n",
    "res = ro.r('t.test')(some_numerical_with_noise_0_r, \n",
    "                     some_numerical_with_noise_1_r)\n",
    "res.names.r_repr()\n",
    "print res[res.names.index('statistic')]\n",
    "print res[res.names.index('p.value')]"
   ]
  },
  {
   "cell_type": "markdown",
   "metadata": {},
   "source": [
    "## Analysis of Variance"
   ]
  },
  {
   "cell_type": "markdown",
   "metadata": {},
   "source": [
    "### Python"
   ]
  },
  {
   "cell_type": "markdown",
   "metadata": {},
   "source": [
    "#### Correlated"
   ]
  },
  {
   "cell_type": "code",
   "execution_count": 221,
   "metadata": {
    "collapsed": false
   },
   "outputs": [],
   "source": [
    "numerical_correlated_to_some_categorical_values = []\n",
    "for v in set(some_random_int):\n",
    "    numerical_correlated_to_some_categorical_values.append(\n",
    "        numerical_correlated_to_some_categorical[np.where(some_random_int==v)]\n",
    "    )"
   ]
  },
  {
   "cell_type": "code",
   "execution_count": 223,
   "metadata": {
    "collapsed": false,
    "scrolled": true
   },
   "outputs": [
    {
     "data": {
      "text/plain": [
       "F_onewayResult(statistic=54.157493741514372, pvalue=1.8081443132438605e-19)"
      ]
     },
     "execution_count": 223,
     "metadata": {},
     "output_type": "execute_result"
    }
   ],
   "source": [
    "scipy.stats.f_oneway(*numerical_correlated_to_some_categorical_values)"
   ]
  },
  {
   "cell_type": "markdown",
   "metadata": {},
   "source": [
    "#### Uncorrelated"
   ]
  },
  {
   "cell_type": "code",
   "execution_count": 224,
   "metadata": {
    "collapsed": false
   },
   "outputs": [],
   "source": [
    "some_numerical_with_noise_values = []\n",
    "for v in set(some_random_int):\n",
    "    some_numerical_with_noise_values.append(\n",
    "        some_numerical_with_noise[np.where(some_random_int==v)]\n",
    "    )"
   ]
  },
  {
   "cell_type": "code",
   "execution_count": 225,
   "metadata": {
    "collapsed": false,
    "scrolled": false
   },
   "outputs": [
    {
     "data": {
      "text/plain": [
       "F_onewayResult(statistic=0.18241266549370055, pvalue=0.83339799296097494)"
      ]
     },
     "execution_count": 225,
     "metadata": {},
     "output_type": "execute_result"
    }
   ],
   "source": [
    "scipy.stats.f_oneway(*some_numerical_with_noise_values)"
   ]
  },
  {
   "cell_type": "markdown",
   "metadata": {},
   "source": [
    "### R"
   ]
  },
  {
   "cell_type": "markdown",
   "metadata": {},
   "source": [
    "#### Correlated"
   ]
  },
  {
   "cell_type": "code",
   "execution_count": 214,
   "metadata": {
    "collapsed": false,
    "scrolled": true
   },
   "outputs": [
    {
     "name": "stdout",
     "output_type": "stream",
     "text": [
      "             Df Sum Sq Mean Sq F value Pr(>F)    \n",
      "cat           2  121.4   60.71   54.16 <2e-16 ***\n",
      "Residuals   197  220.8    1.12                   \n",
      "---\n",
      "Signif. codes:  0 ‘***’ 0.001 ‘**’ 0.01 ‘*’ 0.05 ‘.’ 0.1 ‘ ’ 1\n",
      "\n"
     ]
    }
   ],
   "source": [
    "df = ro.DataFrame({'num':numerical_correlated_to_some_categorical_r, 'cat': some_categorical_r})\n",
    "aov_res = ro.r('aov')(ro.Formula('num~cat'), df)\n",
    "print base.summary(aov_res)"
   ]
  },
  {
   "cell_type": "markdown",
   "metadata": {},
   "source": [
    "#### Uncorrelated"
   ]
  },
  {
   "cell_type": "code",
   "execution_count": 215,
   "metadata": {
    "collapsed": false,
    "scrolled": false
   },
   "outputs": [
    {
     "name": "stdout",
     "output_type": "stream",
     "text": [
      "             Df Sum Sq Mean Sq F value Pr(>F)\n",
      "cat           2  0.034 0.01702   0.182  0.833\n",
      "Residuals   197 18.386 0.09333               \n",
      "\n"
     ]
    }
   ],
   "source": [
    "df = ro.DataFrame({'num':some_numerical_with_noise_r, 'cat': some_categorical_r})\n",
    "aov_res = ro.r('aov')(ro.Formula('num~cat'), df)\n",
    "print base.summary(aov_res)"
   ]
  },
  {
   "cell_type": "markdown",
   "metadata": {},
   "source": [
    "References: \n",
    "- http://stats.stackexchange.com/questions/108007/correlations-with-categorical-variables\n",
    "- http://www.ats.ucla.edu/stat/mult_pkg/whatstat/default.htm"
   ]
  }
 ],
 "metadata": {
  "anaconda-cloud": {},
  "kernelspec": {
   "display_name": "Python [conda env:r]",
   "language": "python",
   "name": "conda-env-r-py"
  },
  "language_info": {
   "codemirror_mode": {
    "name": "ipython",
    "version": 2
   },
   "file_extension": ".py",
   "mimetype": "text/x-python",
   "name": "python",
   "nbconvert_exporter": "python",
   "pygments_lexer": "ipython2",
   "version": "2.7.12"
  },
  "toc": {
   "colors": {
    "hover_highlight": "#DAA520",
    "running_highlight": "#FF0000",
    "selected_highlight": "#FFD700"
   },
   "moveMenuLeft": true,
   "nav_menu": {
    "height": "12px",
    "width": "252px"
   },
   "navigate_menu": true,
   "number_sections": true,
   "sideBar": true,
   "threshold": 4,
   "toc_cell": false,
   "toc_position": {
    "height": "474px",
    "left": "0px",
    "right": "903.8px",
    "top": "107px",
    "width": "248px"
   },
   "toc_section_display": "block",
   "toc_window_display": true
  }
 },
 "nbformat": 4,
 "nbformat_minor": 1
}

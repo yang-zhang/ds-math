{
 "cells": [
  {
   "cell_type": "markdown",
   "metadata": {
    "toc": "true"
   },
   "source": [
    "# Table of Contents\n",
    " <p><div class=\"lev1 toc-item\"><a href=\"#Make-data\" data-toc-modified-id=\"Make-data-1\"><span class=\"toc-item-num\">1&nbsp;&nbsp;</span>Make data</a></div><div class=\"lev2 toc-item\"><a href=\"#Numericals\" data-toc-modified-id=\"Numericals-11\"><span class=\"toc-item-num\">1.1&nbsp;&nbsp;</span>Numericals</a></div><div class=\"lev2 toc-item\"><a href=\"#Categoricals\" data-toc-modified-id=\"Categoricals-12\"><span class=\"toc-item-num\">1.2&nbsp;&nbsp;</span>Categoricals</a></div><div class=\"lev2 toc-item\"><a href=\"#Numerical-v.s.-categorical\" data-toc-modified-id=\"Numerical-v.s.-categorical-13\"><span class=\"toc-item-num\">1.3&nbsp;&nbsp;</span>Numerical v.s. categorical</a></div><div class=\"lev1 toc-item\"><a href=\"#Numerical-v.s.-numerical\" data-toc-modified-id=\"Numerical-v.s.-numerical-2\"><span class=\"toc-item-num\">2&nbsp;&nbsp;</span>Numerical v.s. numerical</a></div><div class=\"lev2 toc-item\"><a href=\"#Pearson-correlation-coefficient\" data-toc-modified-id=\"Pearson-correlation-coefficient-21\"><span class=\"toc-item-num\">2.1&nbsp;&nbsp;</span>Pearson correlation coefficient</a></div><div class=\"lev3 toc-item\"><a href=\"#Python\" data-toc-modified-id=\"Python-211\"><span class=\"toc-item-num\">2.1.1&nbsp;&nbsp;</span>Python</a></div><div class=\"lev3 toc-item\"><a href=\"#R\" data-toc-modified-id=\"R-212\"><span class=\"toc-item-num\">2.1.2&nbsp;&nbsp;</span>R</a></div><div class=\"lev1 toc-item\"><a href=\"#Categorical-v.s.-categorical\" data-toc-modified-id=\"Categorical-v.s.-categorical-3\"><span class=\"toc-item-num\">3&nbsp;&nbsp;</span>Categorical v.s. categorical</a></div><div class=\"lev2 toc-item\"><a href=\"#Chi-square\" data-toc-modified-id=\"Chi-square-31\"><span class=\"toc-item-num\">3.1&nbsp;&nbsp;</span>Chi-square</a></div><div class=\"lev3 toc-item\"><a href=\"#Python\" data-toc-modified-id=\"Python-311\"><span class=\"toc-item-num\">3.1.1&nbsp;&nbsp;</span>Python</a></div><div class=\"lev4 toc-item\"><a href=\"#Correlated-example\" data-toc-modified-id=\"Correlated-example-3111\"><span class=\"toc-item-num\">3.1.1.1&nbsp;&nbsp;</span>Correlated example</a></div><div class=\"lev4 toc-item\"><a href=\"#Uncorrelated-example\" data-toc-modified-id=\"Uncorrelated-example-3112\"><span class=\"toc-item-num\">3.1.1.2&nbsp;&nbsp;</span>Uncorrelated example</a></div><div class=\"lev3 toc-item\"><a href=\"#R\" data-toc-modified-id=\"R-312\"><span class=\"toc-item-num\">3.1.2&nbsp;&nbsp;</span>R</a></div><div class=\"lev4 toc-item\"><a href=\"#Correlated-example\" data-toc-modified-id=\"Correlated-example-3121\"><span class=\"toc-item-num\">3.1.2.1&nbsp;&nbsp;</span>Correlated example</a></div><div class=\"lev4 toc-item\"><a href=\"#Uncorrelated-example\" data-toc-modified-id=\"Uncorrelated-example-3122\"><span class=\"toc-item-num\">3.1.2.2&nbsp;&nbsp;</span>Uncorrelated example</a></div><div class=\"lev2 toc-item\"><a href=\"#Mutual-information\" data-toc-modified-id=\"Mutual-information-32\"><span class=\"toc-item-num\">3.2&nbsp;&nbsp;</span>Mutual information</a></div><div class=\"lev3 toc-item\"><a href=\"#Python\" data-toc-modified-id=\"Python-321\"><span class=\"toc-item-num\">3.2.1&nbsp;&nbsp;</span>Python</a></div><div class=\"lev4 toc-item\"><a href=\"#Correlated-example\" data-toc-modified-id=\"Correlated-example-3211\"><span class=\"toc-item-num\">3.2.1.1&nbsp;&nbsp;</span>Correlated example</a></div><div class=\"lev4 toc-item\"><a href=\"#Uncorrelated-example\" data-toc-modified-id=\"Uncorrelated-example-3212\"><span class=\"toc-item-num\">3.2.1.2&nbsp;&nbsp;</span>Uncorrelated example</a></div><div class=\"lev3 toc-item\"><a href=\"#R\" data-toc-modified-id=\"R-322\"><span class=\"toc-item-num\">3.2.2&nbsp;&nbsp;</span>R</a></div><div class=\"lev1 toc-item\"><a href=\"#Numerical-v.s.-categorical\" data-toc-modified-id=\"Numerical-v.s.-categorical-4\"><span class=\"toc-item-num\">4&nbsp;&nbsp;</span>Numerical v.s. categorical</a></div><div class=\"lev2 toc-item\"><a href=\"#t-test\" data-toc-modified-id=\"t-test-41\"><span class=\"toc-item-num\">4.1&nbsp;&nbsp;</span>t-test</a></div><div class=\"lev3 toc-item\"><a href=\"#Python\" data-toc-modified-id=\"Python-411\"><span class=\"toc-item-num\">4.1.1&nbsp;&nbsp;</span>Python</a></div><div class=\"lev4 toc-item\"><a href=\"#Correlated-example\" data-toc-modified-id=\"Correlated-example-4111\"><span class=\"toc-item-num\">4.1.1.1&nbsp;&nbsp;</span>Correlated example</a></div><div class=\"lev4 toc-item\"><a href=\"#Uncorrelated-example\" data-toc-modified-id=\"Uncorrelated-example-4112\"><span class=\"toc-item-num\">4.1.1.2&nbsp;&nbsp;</span>Uncorrelated example</a></div><div class=\"lev3 toc-item\"><a href=\"#R\" data-toc-modified-id=\"R-412\"><span class=\"toc-item-num\">4.1.2&nbsp;&nbsp;</span>R</a></div><div class=\"lev4 toc-item\"><a href=\"#Correlated-example\" data-toc-modified-id=\"Correlated-example-4121\"><span class=\"toc-item-num\">4.1.2.1&nbsp;&nbsp;</span>Correlated example</a></div><div class=\"lev4 toc-item\"><a href=\"#Uncorrelated-example\" data-toc-modified-id=\"Uncorrelated-example-4122\"><span class=\"toc-item-num\">4.1.2.2&nbsp;&nbsp;</span>Uncorrelated example</a></div><div class=\"lev2 toc-item\"><a href=\"#Analysis-of-Variance\" data-toc-modified-id=\"Analysis-of-Variance-42\"><span class=\"toc-item-num\">4.2&nbsp;&nbsp;</span>Analysis of Variance</a></div><div class=\"lev3 toc-item\"><a href=\"#Python\" data-toc-modified-id=\"Python-421\"><span class=\"toc-item-num\">4.2.1&nbsp;&nbsp;</span>Python</a></div><div class=\"lev4 toc-item\"><a href=\"#Correlated-example\" data-toc-modified-id=\"Correlated-example-4211\"><span class=\"toc-item-num\">4.2.1.1&nbsp;&nbsp;</span>Correlated example</a></div><div class=\"lev4 toc-item\"><a href=\"#Uncorrelated-example\" data-toc-modified-id=\"Uncorrelated-example-4212\"><span class=\"toc-item-num\">4.2.1.2&nbsp;&nbsp;</span>Uncorrelated example</a></div><div class=\"lev3 toc-item\"><a href=\"#R\" data-toc-modified-id=\"R-422\"><span class=\"toc-item-num\">4.2.2&nbsp;&nbsp;</span>R</a></div><div class=\"lev4 toc-item\"><a href=\"#Correlated-example\" data-toc-modified-id=\"Correlated-example-4221\"><span class=\"toc-item-num\">4.2.2.1&nbsp;&nbsp;</span>Correlated example</a></div><div class=\"lev4 toc-item\"><a href=\"#Uncorrelated-example\" data-toc-modified-id=\"Uncorrelated-example-4222\"><span class=\"toc-item-num\">4.2.2.2&nbsp;&nbsp;</span>Uncorrelated example</a></div>"
   ]
  },
  {
   "cell_type": "code",
   "execution_count": 63,
   "metadata": {
    "collapsed": true
   },
   "outputs": [],
   "source": [
    "%matplotlib inline\n",
    "import numpy as np\n",
    "import pandas as pd\n",
    "import scipy.stats\n",
    "import sklearn.metrics\n",
    "import math\n",
    "import matplotlib.pyplot as plt\n",
    "\n",
    "\n",
    "from IPython.core.interactiveshell import InteractiveShell\n",
    "InteractiveShell.ast_node_interactivity = \"all\"\n",
    "\n",
    "import rpy2.robjects as ro\n",
    "import rpy2.robjects.packages as rpackages"
   ]
  },
  {
   "cell_type": "code",
   "execution_count": 10,
   "metadata": {
    "collapsed": true
   },
   "outputs": [],
   "source": [
    "base = rpackages.importr('base')"
   ]
  },
  {
   "cell_type": "markdown",
   "metadata": {},
   "source": [
    "Run a R kernal in Jupyter and run \n",
    "```\n",
    "install.packages(c('entropy', 'psych', 'vcd'))\n",
    "```"
   ]
  },
  {
   "cell_type": "code",
   "execution_count": 11,
   "metadata": {
    "collapsed": false
   },
   "outputs": [
    {
     "data": {
      "text/plain": [
       "rpy2.robjects.packages.Package as a <module 'entropy' (built-in)>"
      ]
     },
     "execution_count": 11,
     "metadata": {},
     "output_type": "execute_result"
    }
   ],
   "source": [
    "rpackages.importr('entropy')"
   ]
  },
  {
   "cell_type": "markdown",
   "metadata": {},
   "source": [
    "This notebook demonstrates various methods to measure correlations between data (numerical and categorical), with code in Python and R, side by side. \n",
    "\n",
    "For exmaples, see https://github.com/yang-zhang/lang-python/blob/master/rpy2%20Tutorial.ipynb"
   ]
  },
  {
   "cell_type": "markdown",
   "metadata": {},
   "source": [
    "# Make data"
   ]
  },
  {
   "cell_type": "code",
   "execution_count": 12,
   "metadata": {
    "collapsed": true
   },
   "outputs": [],
   "source": [
    "N = 200"
   ]
  },
  {
   "cell_type": "markdown",
   "metadata": {},
   "source": [
    "## Numericals"
   ]
  },
  {
   "cell_type": "code",
   "execution_count": 13,
   "metadata": {
    "collapsed": true
   },
   "outputs": [],
   "source": [
    "some_numerical = np.random.uniform(0, 1, N)\n",
    "some_numerical_with_noise = some_numerical + 0.1*np.random.randn(N)\n",
    "\n",
    "some_numerical_r = ro.FloatVector(some_numerical)\n",
    "some_numerical_with_noise_r = ro.FloatVector(some_numerical_with_noise)"
   ]
  },
  {
   "cell_type": "markdown",
   "metadata": {},
   "source": [
    "## Categoricals"
   ]
  },
  {
   "cell_type": "code",
   "execution_count": 14,
   "metadata": {
    "collapsed": true
   },
   "outputs": [],
   "source": [
    "def generate_random_ints(num_categories, N):\n",
    "    some_random_int = np.random.randint(0, num_categories, N)\n",
    "    correlated_random_int = some_random_int.copy()\n",
    "    \n",
    "    for i in range(len(some_random_int)):\n",
    "        if np.random.uniform(0, 1)>0.9:\n",
    "            correlated_random_int[i]=np.random.randint(0, num_categories, 1)\n",
    "    return some_random_int, correlated_random_int"
   ]
  },
  {
   "cell_type": "code",
   "execution_count": 15,
   "metadata": {
    "collapsed": false,
    "scrolled": true
   },
   "outputs": [],
   "source": [
    "some_random_int, correlated_random_int = generate_random_ints(3, N)\n",
    "\n",
    "uncorrelated_random_int = generate_random_ints(3, N)[0]\n",
    "\n",
    "some_categorical_r = ro.FactorVector(some_random_int)\n",
    "correlated_categorical_r = ro.FactorVector(correlated_random_int)\n",
    "uncorrelated_categorical_r = ro.FactorVector(uncorrelated_random_int)"
   ]
  },
  {
   "cell_type": "markdown",
   "metadata": {},
   "source": [
    "## Numerical v.s. categorical"
   ]
  },
  {
   "cell_type": "code",
   "execution_count": 16,
   "metadata": {
    "collapsed": false,
    "scrolled": true
   },
   "outputs": [],
   "source": [
    "numerical_correlated_to_some_categorical = np.array([np.random.normal(c, 1) for c in some_random_int])\n",
    "numerical_correlated_to_some_categorical_r = ro.FloatVector(numerical_correlated_to_some_categorical)"
   ]
  },
  {
   "cell_type": "markdown",
   "metadata": {},
   "source": [
    "# Numerical v.s. numerical"
   ]
  },
  {
   "cell_type": "markdown",
   "metadata": {},
   "source": [
    "## Pearson correlation coefficient"
   ]
  },
  {
   "cell_type": "markdown",
   "metadata": {},
   "source": [
    "### Python"
   ]
  },
  {
   "cell_type": "code",
   "execution_count": 17,
   "metadata": {
    "collapsed": false,
    "scrolled": false
   },
   "outputs": [
    {
     "data": {
      "text/plain": [
       "(0.93168770448527072, 5.0886542957955687e-89)"
      ]
     },
     "execution_count": 17,
     "metadata": {},
     "output_type": "execute_result"
    }
   ],
   "source": [
    "scipy.stats.pearsonr(some_numerical, some_numerical_with_noise)"
   ]
  },
  {
   "cell_type": "markdown",
   "metadata": {},
   "source": [
    "### R"
   ]
  },
  {
   "cell_type": "code",
   "execution_count": 18,
   "metadata": {
    "collapsed": false,
    "scrolled": false
   },
   "outputs": [
    {
     "name": "stdout",
     "output_type": "stream",
     "text": [
      "[1] 0.9316877\n",
      "\n"
     ]
    }
   ],
   "source": [
    "print ro.r.cor(some_numerical_r, some_numerical_with_noise_r)"
   ]
  },
  {
   "cell_type": "markdown",
   "metadata": {},
   "source": [
    "# Categorical v.s. categorical"
   ]
  },
  {
   "cell_type": "markdown",
   "metadata": {},
   "source": [
    "## Chi-square"
   ]
  },
  {
   "cell_type": "markdown",
   "metadata": {},
   "source": [
    "### Python"
   ]
  },
  {
   "cell_type": "markdown",
   "metadata": {},
   "source": [
    "#### Correlated example"
   ]
  },
  {
   "cell_type": "code",
   "execution_count": null,
   "metadata": {
    "collapsed": true
   },
   "outputs": [],
   "source": []
  },
  {
   "cell_type": "markdown",
   "metadata": {},
   "source": [
    "#### Uncorrelated example"
   ]
  },
  {
   "cell_type": "code",
   "execution_count": null,
   "metadata": {
    "collapsed": true
   },
   "outputs": [],
   "source": []
  },
  {
   "cell_type": "markdown",
   "metadata": {},
   "source": [
    "### R"
   ]
  },
  {
   "cell_type": "markdown",
   "metadata": {},
   "source": [
    "#### Correlated example"
   ]
  },
  {
   "cell_type": "code",
   "execution_count": 19,
   "metadata": {
    "collapsed": false,
    "scrolled": true
   },
   "outputs": [
    {
     "data": {
      "text/plain": [
       "'c(\"statistic\", \"parameter\", \"p.value\", \"method\", \"data.name\", \\n\"observed\", \"expected\", \"residuals\", \"stdres\")'"
      ]
     },
     "execution_count": 19,
     "metadata": {},
     "output_type": "execute_result"
    },
    {
     "name": "stdout",
     "output_type": "stream",
     "text": [
      "X-squared \n",
      " 344.1798 \n",
      "\n",
      "[1] 3.166542e-73\n",
      "\n"
     ]
    }
   ],
   "source": [
    "res = ro.r('chisq.test')(some_categorical_r, correlated_categorical_r)\n",
    "res.names.r_repr()\n",
    "print res[res.names.index('statistic')]\n",
    "print res[res.names.index('p.value')]"
   ]
  },
  {
   "cell_type": "markdown",
   "metadata": {},
   "source": [
    "#### Uncorrelated example"
   ]
  },
  {
   "cell_type": "code",
   "execution_count": 20,
   "metadata": {
    "collapsed": false,
    "scrolled": true
   },
   "outputs": [
    {
     "data": {
      "text/plain": [
       "'c(\"statistic\", \"parameter\", \"p.value\", \"method\", \"data.name\", \\n\"observed\", \"expected\", \"residuals\", \"stdres\")'"
      ]
     },
     "execution_count": 20,
     "metadata": {},
     "output_type": "execute_result"
    },
    {
     "name": "stdout",
     "output_type": "stream",
     "text": [
      "X-squared \n",
      " 8.803104 \n",
      "\n",
      "[1] 0.06621383\n",
      "\n"
     ]
    }
   ],
   "source": [
    "res = ro.r('chisq.test')(some_categorical_r, uncorrelated_categorical_r)\n",
    "res.names.r_repr()\n",
    "print res[res.names.index('statistic')]\n",
    "print res[res.names.index('p.value')]"
   ]
  },
  {
   "cell_type": "markdown",
   "metadata": {},
   "source": [
    "## Mutual information"
   ]
  },
  {
   "cell_type": "markdown",
   "metadata": {},
   "source": [
    "### Python"
   ]
  },
  {
   "cell_type": "code",
   "execution_count": 155,
   "metadata": {
    "collapsed": false,
    "scrolled": true
   },
   "outputs": [],
   "source": [
    "value_counts_some_random_int = np.bincount(some_random_int)\n",
    "H_some_random_int = scipy.stats.entropy(value_counts_some_random_int)"
   ]
  },
  {
   "cell_type": "code",
   "execution_count": 166,
   "metadata": {
    "collapsed": true
   },
   "outputs": [],
   "source": [
    "def calculate_joint_entropy(x, y):\n",
    "    df = pd.DataFrame(np.stack((x, y), axis=1))\n",
    "    df.columns = ['a', 'b']\n",
    "    df_value_counts_joined = df.groupby(['a', 'b']).size().reset_index().rename(columns={0:'count'})\n",
    "    value_counts_joined = df_value_counts_joined['count']\n",
    "    return scipy.stats.entropy(value_counts_joined)"
   ]
  },
  {
   "cell_type": "markdown",
   "metadata": {},
   "source": [
    "#### Correlated example"
   ]
  },
  {
   "cell_type": "code",
   "execution_count": 167,
   "metadata": {
    "collapsed": true
   },
   "outputs": [],
   "source": [
    "value_counts_correlated_random_int = np.bincount(correlated_random_int)\n",
    "H_correlated_random_int = scipy.stats.entropy(value_counts_correlated_random_int)\n",
    "\n",
    "H_some_random_int_joint_correlated_random_int = calculate_joint_entropy(some_random_int, correlated_random_int)\n",
    "\n",
    "mutual_some_random_int_between_correlated_random_int = H_some_random_int + \\\n",
    "H_correlated_random_int - H_some_random_int_joint_correlated_random_int\n",
    "\n",
    "mutual_some_random_int_between_correlated_random_int_another_method = sklearn.metrics.mutual_info_score(some_random_int, correlated_random_int)"
   ]
  },
  {
   "cell_type": "code",
   "execution_count": 168,
   "metadata": {
    "collapsed": false,
    "scrolled": true
   },
   "outputs": [
    {
     "data": {
      "text/plain": [
       "1.0844584104174304"
      ]
     },
     "execution_count": 168,
     "metadata": {},
     "output_type": "execute_result"
    },
    {
     "data": {
      "text/plain": [
       "1.0830702290095406"
      ]
     },
     "execution_count": 168,
     "metadata": {},
     "output_type": "execute_result"
    },
    {
     "data": {
      "text/plain": [
       "0.88741063147820554"
      ]
     },
     "execution_count": 168,
     "metadata": {},
     "output_type": "execute_result"
    },
    {
     "data": {
      "text/plain": [
       "0.88741063147820576"
      ]
     },
     "execution_count": 168,
     "metadata": {},
     "output_type": "execute_result"
    }
   ],
   "source": [
    "H_some_random_int\n",
    "H_correlated_random_int\n",
    "mutual_some_random_int_between_correlated_random_int\n",
    "mutual_some_random_int_between_correlated_random_int_another_method"
   ]
  },
  {
   "cell_type": "markdown",
   "metadata": {},
   "source": [
    "#### Uncorrelated example"
   ]
  },
  {
   "cell_type": "code",
   "execution_count": 169,
   "metadata": {
    "collapsed": true
   },
   "outputs": [],
   "source": [
    "value_counts_uncorrelated_random_int = np.bincount(uncorrelated_random_int)\n",
    "H_uncorrelated_random_int = scipy.stats.entropy(value_counts_uncorrelated_random_int)\n",
    "H_some_random_int_joint_uncorrelated_random_int = calculate_joint_entropy(some_random_int, uncorrelated_random_int)\n",
    "\n",
    "mutual_some_random_int_between_uncorrelated_random_int = H_some_random_int + \\\n",
    "H_uncorrelated_random_int - H_some_random_int_joint_uncorrelated_random_int\n",
    "\n",
    "mutual_some_random_int_between_uncorrelated_random_int_another_method = sklearn.metrics.mutual_info_score(some_random_int, uncorrelated_random_int)"
   ]
  },
  {
   "cell_type": "code",
   "execution_count": 170,
   "metadata": {
    "collapsed": false,
    "scrolled": true
   },
   "outputs": [
    {
     "data": {
      "text/plain": [
       "1.0844584104174304"
      ]
     },
     "execution_count": 170,
     "metadata": {},
     "output_type": "execute_result"
    },
    {
     "data": {
      "text/plain": [
       "1.0963290076334231"
      ]
     },
     "execution_count": 170,
     "metadata": {},
     "output_type": "execute_result"
    },
    {
     "data": {
      "text/plain": [
       "0.022506623981049412"
      ]
     },
     "execution_count": 170,
     "metadata": {},
     "output_type": "execute_result"
    },
    {
     "data": {
      "text/plain": [
       "0.022506623981049467"
      ]
     },
     "execution_count": 170,
     "metadata": {},
     "output_type": "execute_result"
    }
   ],
   "source": [
    "H_some_random_int\n",
    "H_uncorrelated_random_int\n",
    "mutual_some_random_int_between_uncorrelated_random_int\n",
    "mutual_some_random_int_between_uncorrelated_random_int_another_method"
   ]
  },
  {
   "cell_type": "markdown",
   "metadata": {},
   "source": [
    "### R"
   ]
  },
  {
   "cell_type": "code",
   "execution_count": 44,
   "metadata": {
    "collapsed": true
   },
   "outputs": [],
   "source": [
    "H_some_categorical_r = ro.r('entropy')(ro.r('table')(some_categorical_r))[0]"
   ]
  },
  {
   "cell_type": "markdown",
   "metadata": {},
   "source": [
    "##### Correlated example"
   ]
  },
  {
   "cell_type": "code",
   "execution_count": 161,
   "metadata": {
    "collapsed": false,
    "scrolled": false
   },
   "outputs": [],
   "source": [
    "H_correlated_categorical_r = ro.r('entropy')(ro.r('table')(correlated_categorical_r))[0]\n",
    "tb_cross = ro.r('table')(some_categorical_r, correlated_categorical_r)\n",
    "H_some_categorical_r_joint_correlated_categorical_r = ro.r('entropy')(tb_cross)[0]\n",
    "mutual_some_categorical_r_between_correlated_categorical_r = H_some_categorical_r + H_correlated_categorical_r - H_some_categorical_r_joint_correlated_categorical_r\n",
    "mutual_some_categorical_r_between_correlated_categorical_r_another_method = ro.r('mi.empirical')(tb_cross)[0]"
   ]
  },
  {
   "cell_type": "code",
   "execution_count": 162,
   "metadata": {
    "collapsed": false,
    "scrolled": true
   },
   "outputs": [
    {
     "data": {
      "text/plain": [
       "1.0844584104174306"
      ]
     },
     "execution_count": 162,
     "metadata": {},
     "output_type": "execute_result"
    },
    {
     "data": {
      "text/plain": [
       "1.0830702290095406"
      ]
     },
     "execution_count": 162,
     "metadata": {},
     "output_type": "execute_result"
    },
    {
     "data": {
      "text/plain": [
       "0.887410631478206"
      ]
     },
     "execution_count": 162,
     "metadata": {},
     "output_type": "execute_result"
    },
    {
     "data": {
      "text/plain": [
       "0.8874106314782058"
      ]
     },
     "execution_count": 162,
     "metadata": {},
     "output_type": "execute_result"
    }
   ],
   "source": [
    "H_some_categorical_r\n",
    "H_correlated_categorical_r\n",
    "mutual_some_categorical_r_between_correlated_categorical_r\n",
    "mutual_some_categorical_r_between_correlated_categorical_r_another_method"
   ]
  },
  {
   "cell_type": "code",
   "execution_count": 163,
   "metadata": {
    "collapsed": false
   },
   "outputs": [
    {
     "data": {
      "text/plain": [
       "1.2801180079487653"
      ]
     },
     "execution_count": 163,
     "metadata": {},
     "output_type": "execute_result"
    }
   ],
   "source": [
    "H_some_categorical_r_joint_correlated_categorical_r"
   ]
  },
  {
   "cell_type": "markdown",
   "metadata": {},
   "source": [
    "##### Uncorrelated example"
   ]
  },
  {
   "cell_type": "code",
   "execution_count": 164,
   "metadata": {
    "collapsed": false,
    "scrolled": false
   },
   "outputs": [],
   "source": [
    "H_uncorrelated_categorical_r = ro.r('entropy')(ro.r('table')(uncorrelated_categorical_r))[0]\n",
    "tb_cross = ro.r('table')(some_categorical_r, uncorrelated_categorical_r)\n",
    "H_some_categorical_r_joint_uncorrelated_categorical_r = ro.r('entropy')(tb_cross)[0]\n",
    "mutual_some_categorical_r_between_uncorrelated_categorical_r = H_some_categorical_r + H_uncorrelated_categorical_r - H_some_categorical_r_joint_uncorrelated_categorical_r\n",
    "mutual_some_categorical_r_between_uncorrelated_categorical_r_another_method = ro.r('mi.empirical')(tb_cross)[0]"
   ]
  },
  {
   "cell_type": "code",
   "execution_count": 165,
   "metadata": {
    "collapsed": false,
    "scrolled": true
   },
   "outputs": [
    {
     "data": {
      "text/plain": [
       "1.0844584104174306"
      ]
     },
     "execution_count": 165,
     "metadata": {},
     "output_type": "execute_result"
    },
    {
     "data": {
      "text/plain": [
       "1.0963290076334231"
      ]
     },
     "execution_count": 165,
     "metadata": {},
     "output_type": "execute_result"
    },
    {
     "data": {
      "text/plain": [
       "0.022506623981049856"
      ]
     },
     "execution_count": 165,
     "metadata": {},
     "output_type": "execute_result"
    },
    {
     "data": {
      "text/plain": [
       "0.022506623981049825"
      ]
     },
     "execution_count": 165,
     "metadata": {},
     "output_type": "execute_result"
    }
   ],
   "source": [
    "H_some_categorical_r\n",
    "H_uncorrelated_categorical_r\n",
    "mutual_some_categorical_r_between_uncorrelated_categorical_r\n",
    "mutual_some_categorical_r_between_uncorrelated_categorical_r_another_method"
   ]
  },
  {
   "cell_type": "markdown",
   "metadata": {},
   "source": [
    "# Numerical v.s. categorical"
   ]
  },
  {
   "cell_type": "markdown",
   "metadata": {},
   "source": [
    "## t-test"
   ]
  },
  {
   "cell_type": "markdown",
   "metadata": {},
   "source": [
    "### Python"
   ]
  },
  {
   "cell_type": "markdown",
   "metadata": {},
   "source": [
    "#### Correlated example"
   ]
  },
  {
   "cell_type": "code",
   "execution_count": 13,
   "metadata": {
    "collapsed": false,
    "scrolled": false
   },
   "outputs": [
    {
     "data": {
      "text/plain": [
       "Ttest_indResult(statistic=-7.3322155372829609, pvalue=1.7412624628379527e-11)"
      ]
     },
     "execution_count": 13,
     "metadata": {},
     "output_type": "execute_result"
    }
   ],
   "source": [
    "numerical_correlated_to_some_categorical_0 = numerical_correlated_to_some_categorical[np.where(some_random_int==0)]\n",
    "numerical_correlated_to_some_categorical_1 = numerical_correlated_to_some_categorical[np.where(some_random_int==1)]\n",
    "scipy.stats.ttest_ind(numerical_correlated_to_some_categorical_0, \n",
    "                      numerical_correlated_to_some_categorical_1, \n",
    "                      axis=0, equal_var=True)"
   ]
  },
  {
   "cell_type": "markdown",
   "metadata": {},
   "source": [
    "#### Uncorrelated example"
   ]
  },
  {
   "cell_type": "code",
   "execution_count": 14,
   "metadata": {
    "collapsed": false,
    "scrolled": false
   },
   "outputs": [
    {
     "data": {
      "text/plain": [
       "Ttest_indResult(statistic=-0.60611886042145968, pvalue=0.54543152969668052)"
      ]
     },
     "execution_count": 14,
     "metadata": {},
     "output_type": "execute_result"
    }
   ],
   "source": [
    "some_numerical_with_noise_0=some_numerical_with_noise[np.where(some_random_int==0)]\n",
    "some_numerical_with_noise_1=some_numerical_with_noise[np.where(some_random_int==1)]\n",
    "scipy.stats.ttest_ind(some_numerical_with_noise_0, \n",
    "                      some_numerical_with_noise_1,\n",
    "                      axis=0, equal_var=True)"
   ]
  },
  {
   "cell_type": "markdown",
   "metadata": {},
   "source": [
    "### R"
   ]
  },
  {
   "cell_type": "markdown",
   "metadata": {},
   "source": [
    "#### Correlated example"
   ]
  },
  {
   "cell_type": "code",
   "execution_count": 15,
   "metadata": {
    "collapsed": false,
    "scrolled": true
   },
   "outputs": [
    {
     "data": {
      "text/plain": [
       "'c(\"statistic\", \"parameter\", \"p.value\", \"conf.int\", \"estimate\", \\n\"null.value\", \"alternative\", \"method\", \"data.name\")'"
      ]
     },
     "execution_count": 15,
     "metadata": {},
     "output_type": "execute_result"
    },
    {
     "name": "stdout",
     "output_type": "stream",
     "text": [
      "        t \n",
      "-7.386762 \n",
      "\n",
      "[1] 1.500479e-11\n",
      "\n"
     ]
    }
   ],
   "source": [
    "numerical_correlated_to_some_categorical_0_r = ro.FloatVector(numerical_correlated_to_some_categorical_0)\n",
    "numerical_correlated_to_some_categorical_1_r = ro.FloatVector(numerical_correlated_to_some_categorical_1)\n",
    "res = ro.r('t.test')(numerical_correlated_to_some_categorical_0_r, \n",
    "                     numerical_correlated_to_some_categorical_1_r)\n",
    "res.names.r_repr()\n",
    "print res[res.names.index('statistic')]\n",
    "print res[res.names.index('p.value')]"
   ]
  },
  {
   "cell_type": "markdown",
   "metadata": {},
   "source": [
    "#### Uncorrelated example"
   ]
  },
  {
   "cell_type": "code",
   "execution_count": 16,
   "metadata": {
    "collapsed": false,
    "scrolled": true
   },
   "outputs": [
    {
     "data": {
      "text/plain": [
       "'c(\"statistic\", \"parameter\", \"p.value\", \"conf.int\", \"estimate\", \\n\"null.value\", \"alternative\", \"method\", \"data.name\")'"
      ]
     },
     "execution_count": 16,
     "metadata": {},
     "output_type": "execute_result"
    },
    {
     "name": "stdout",
     "output_type": "stream",
     "text": [
      "         t \n",
      "-0.6073917 \n",
      "\n",
      "[1] 0.5445894\n",
      "\n"
     ]
    }
   ],
   "source": [
    "some_numerical_with_noise_0_r = ro.FloatVector(some_numerical_with_noise_0)\n",
    "some_numerical_with_noise_1_r = ro.FloatVector(some_numerical_with_noise_1)\n",
    "res = ro.r('t.test')(some_numerical_with_noise_0_r, \n",
    "                     some_numerical_with_noise_1_r)\n",
    "res.names.r_repr()\n",
    "print res[res.names.index('statistic')]\n",
    "print res[res.names.index('p.value')]"
   ]
  },
  {
   "cell_type": "markdown",
   "metadata": {},
   "source": [
    "## Analysis of Variance"
   ]
  },
  {
   "cell_type": "markdown",
   "metadata": {},
   "source": [
    "### Python"
   ]
  },
  {
   "cell_type": "markdown",
   "metadata": {},
   "source": [
    "#### Correlated example"
   ]
  },
  {
   "cell_type": "code",
   "execution_count": 17,
   "metadata": {
    "collapsed": false
   },
   "outputs": [],
   "source": [
    "numerical_correlated_to_some_categorical_values = []\n",
    "for v in set(some_random_int):\n",
    "    numerical_correlated_to_some_categorical_values.append(\n",
    "        numerical_correlated_to_some_categorical[np.where(some_random_int==v)]\n",
    "    )"
   ]
  },
  {
   "cell_type": "code",
   "execution_count": 18,
   "metadata": {
    "collapsed": false,
    "scrolled": true
   },
   "outputs": [
    {
     "data": {
      "text/plain": [
       "F_onewayResult(statistic=74.174138087619355, pvalue=9.6957176848732812e-25)"
      ]
     },
     "execution_count": 18,
     "metadata": {},
     "output_type": "execute_result"
    }
   ],
   "source": [
    "scipy.stats.f_oneway(*numerical_correlated_to_some_categorical_values)"
   ]
  },
  {
   "cell_type": "markdown",
   "metadata": {},
   "source": [
    "#### Uncorrelated example"
   ]
  },
  {
   "cell_type": "code",
   "execution_count": 19,
   "metadata": {
    "collapsed": false
   },
   "outputs": [],
   "source": [
    "some_numerical_with_noise_values = []\n",
    "for v in set(some_random_int):\n",
    "    some_numerical_with_noise_values.append(\n",
    "        some_numerical_with_noise[np.where(some_random_int==v)]\n",
    "    )"
   ]
  },
  {
   "cell_type": "code",
   "execution_count": 20,
   "metadata": {
    "collapsed": false,
    "scrolled": false
   },
   "outputs": [
    {
     "data": {
      "text/plain": [
       "F_onewayResult(statistic=0.2636567271962052, pvalue=0.76850786006129224)"
      ]
     },
     "execution_count": 20,
     "metadata": {},
     "output_type": "execute_result"
    }
   ],
   "source": [
    "scipy.stats.f_oneway(*some_numerical_with_noise_values)"
   ]
  },
  {
   "cell_type": "markdown",
   "metadata": {},
   "source": [
    "### R"
   ]
  },
  {
   "cell_type": "markdown",
   "metadata": {},
   "source": [
    "#### Correlated example"
   ]
  },
  {
   "cell_type": "code",
   "execution_count": 21,
   "metadata": {
    "collapsed": false,
    "scrolled": false
   },
   "outputs": [
    {
     "name": "stdout",
     "output_type": "stream",
     "text": [
      "             Df Sum Sq Mean Sq F value Pr(>F)    \n",
      "cat           2  141.5   70.73   74.17 <2e-16 ***\n",
      "Residuals   197  187.8    0.95                   \n",
      "---\n",
      "Signif. codes:  0 ‘***’ 0.001 ‘**’ 0.01 ‘*’ 0.05 ‘.’ 0.1 ‘ ’ 1\n",
      "\n"
     ]
    }
   ],
   "source": [
    "df = ro.DataFrame({'num':numerical_correlated_to_some_categorical_r, 'cat': some_categorical_r})\n",
    "aov_res = ro.r('aov')(ro.Formula('num~cat'), df)\n",
    "print base.summary(aov_res)"
   ]
  },
  {
   "cell_type": "markdown",
   "metadata": {},
   "source": [
    "#### Uncorrelated example"
   ]
  },
  {
   "cell_type": "code",
   "execution_count": 22,
   "metadata": {
    "collapsed": false,
    "scrolled": false
   },
   "outputs": [
    {
     "name": "stdout",
     "output_type": "stream",
     "text": [
      "             Df Sum Sq Mean Sq F value Pr(>F)\n",
      "cat           2  0.052 0.02612   0.264  0.769\n",
      "Residuals   197 19.515 0.09906               \n",
      "\n"
     ]
    }
   ],
   "source": [
    "df = ro.DataFrame({'num':some_numerical_with_noise_r, 'cat': some_categorical_r})\n",
    "aov_res = ro.r('aov')(ro.Formula('num~cat'), df)\n",
    "print base.summary(aov_res)"
   ]
  },
  {
   "cell_type": "markdown",
   "metadata": {},
   "source": [
    "References: \n",
    "- http://stats.stackexchange.com/questions/108007/correlations-with-categorical-variables\n",
    "- http://www.ats.ucla.edu/stat/mult_pkg/whatstat/default.htm"
   ]
  }
 ],
 "metadata": {
  "anaconda-cloud": {},
  "kernelspec": {
   "display_name": "Python [conda env:r]",
   "language": "python",
   "name": "conda-env-r-py"
  },
  "language_info": {
   "codemirror_mode": {
    "name": "ipython",
    "version": 2
   },
   "file_extension": ".py",
   "mimetype": "text/x-python",
   "name": "python",
   "nbconvert_exporter": "python",
   "pygments_lexer": "ipython2",
   "version": "2.7.12"
  },
  "toc": {
   "colors": {
    "hover_highlight": "#DAA520",
    "running_highlight": "#FF0000",
    "selected_highlight": "#FFD700"
   },
   "moveMenuLeft": true,
   "nav_menu": {
    "height": "12px",
    "width": "252px"
   },
   "navigate_menu": true,
   "number_sections": true,
   "sideBar": true,
   "threshold": 4,
   "toc_cell": true,
   "toc_position": {
    "height": "474px",
    "left": "0px",
    "right": "903.8px",
    "top": "107px",
    "width": "248px"
   },
   "toc_section_display": "block",
   "toc_window_display": true
  }
 },
 "nbformat": 4,
 "nbformat_minor": 1
}

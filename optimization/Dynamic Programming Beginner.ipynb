{
 "cells": [
  {
   "cell_type": "code",
   "execution_count": 22,
   "metadata": {
    "collapsed": false,
    "scrolled": true
   },
   "outputs": [],
   "source": [
    "%matplotlib inline\n",
    "import numpy as np\n",
    "import matplotlib.pyplot as plt"
   ]
  },
  {
   "cell_type": "markdown",
   "metadata": {},
   "source": [
    "https://www.topcoder.com/community/data-science/data-science-tutorials/dynamic-programming-from-novice-to-advanced/"
   ]
  },
  {
   "cell_type": "raw",
   "metadata": {},
   "source": [
    "Coins V[j]=1,3,5\n",
    "\n",
    "S=11\n",
    "\n",
    "sol[0,...,S]=inf\n",
    "\n",
    "- i=0, sol[0]=0\n",
    "- i=1,  \n",
    "    - Vj=1, i-Vj>=0? yes! then m=sol[i-Vj]=sol[0]=0. m+1<sol[1]=inf? yes! then sol[1]=m+1=1\n",
    "    - Vj=3, i-Vj>=0? no! then do nothing.\n",
    "    - Vj=5, i-Vj>=0? no! then do nothing.\n",
    "    - sol[1]=1\n",
    "- i=2, \n",
    "    - Vj=1, i-Vj>=0? yes! then m=sol[i-Vj]=sol[1]=1. m+1<sol[2]? yes! then sol[2]=m+1=2\n",
    "    - Vj=3, i-Vj>=0? no!\n",
    "    - Vj=5, i-Vj>=0? no!\n",
    "    - sol[2]=2\n",
    "- i=3,\n",
    "    - Vj=1, i-Vj>=0? yes! then m=sol[i-Vj]=sol[2]=2. m+1<sol[3]? yes! then sol[3]=m+1=3\n",
    "    - Vj=3, i-Vj>=0? yes! then m=sol[i-Vj]=sol[0]=0. m+1<sol[3]=3? yes! then sol[3]=m+1=1\n",
    "    - Vj=5, i-Vj>=0? no!\n",
    "    - sol[3]=1\n",
    "- i=4,\n",
    "    - Vj=1, i-Vj>=0? yes! then m=sol[i-Vj]=sol[3]=1. m+1<sol[4]? yes! then sol[4]=m+1=2\n",
    "    - Vj=3, i-Vj>=0? yes! then m=sol[i-Vj]=sol[1]=1. m+1<sol[4]? no!\n",
    "    - Vj=5, i-Vj>=0? no!\n",
    "    - sol[4]=2\n",
    "- i=5,\n",
    "    - Vj=1, i-Vj>=0? yes! then m=sol[i-Vj]=sol[4]=2. m+1<sol[5]? yes! then sol[5]=m+1=3\n",
    "    - Vj=3, i-Vj>=0? yes! then m=sol[i-Vj]=sol[2]=2. m+1<sol[5]? no!\n",
    "    - Vj=5, i-Vj>=0? yes! then m=sol[i-Vj]=sol[0]=0. m+1<sol[5]? yes! then sol[5]=m+1=1\n",
    "    - sol[5]=1"
   ]
  },
  {
   "cell_type": "code",
   "execution_count": 107,
   "metadata": {
    "collapsed": false
   },
   "outputs": [],
   "source": [
    "V=[1,3,5]\n",
    "S=11\n",
    "sol=np.inf*np.ones(S+1)\n",
    "sol[0]=0\n",
    "\n",
    "for i in range(S+1):\n",
    "    for v in V:\n",
    "        if (i-v>=0) and (sol[i-v]+1<sol[i]):\n",
    "            sol[i]=sol[i-v]+1"
   ]
  },
  {
   "cell_type": "code",
   "execution_count": 110,
   "metadata": {
    "collapsed": false,
    "scrolled": true
   },
   "outputs": [
    {
     "name": "stdout",
     "output_type": "stream",
     "text": [
      "0 0.0\n",
      "1 1.0\n",
      "2 2.0\n",
      "3 1.0\n",
      "4 2.0\n",
      "5 1.0\n",
      "6 2.0\n",
      "7 3.0\n",
      "8 2.0\n",
      "9 3.0\n",
      "10 2.0\n",
      "11 3.0\n"
     ]
    }
   ],
   "source": [
    "for i, v in enumerate(sol):\n",
    "    print i, v"
   ]
  }
 ],
 "metadata": {
  "anaconda-cloud": {},
  "kernelspec": {
   "display_name": "Python [default]",
   "language": "python",
   "name": "python2"
  },
  "language_info": {
   "codemirror_mode": {
    "name": "ipython",
    "version": 2
   },
   "file_extension": ".py",
   "mimetype": "text/x-python",
   "name": "python",
   "nbconvert_exporter": "python",
   "pygments_lexer": "ipython2",
   "version": "2.7.12"
  }
 },
 "nbformat": 4,
 "nbformat_minor": 1
}

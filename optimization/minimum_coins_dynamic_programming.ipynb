{
 "cells": [
  {
   "cell_type": "code",
   "execution_count": 4,
   "metadata": {
    "collapsed": false,
    "scrolled": true
   },
   "outputs": [],
   "source": [
    "%matplotlib inline\n",
    "import numpy as np\n",
    "import matplotlib.pyplot as plt"
   ]
  },
  {
   "cell_type": "markdown",
   "metadata": {},
   "source": [
    "Problem: find the minimum number of coins for a given value and a given set of available value of coins. E.g., if you have coins with values `V[j]=1, 3, 5` and want to find the minimun number of coins to make the value `S=50`.\n",
    "\n",
    "Idea: I want the minumum number `sol` for a value `i` (call it `sol[i]`). \n",
    "- If I choose coin with value `V1`, then the best I can do is `1 + sol[i-V1]`, where `1` is this `V1` coin I just chose and `sol[i-V1]` is the minumum number of coins for value `i-V1`;\n",
    "- If I choose coin with value `V2`, then the best I can do is `1 + sol[i-V2]`, where `1` is this `V2` coin I just chose and `sol[i-V2]` is the minumum number of coins for value `i-V2`;\n",
    "- ...\n",
    "- Do this for all Vj and pick the best I can do, i.e., the `Vj` for the smallest `1 + sol[i-Vj]`, and update `sol[i]` to be this smallest value.\n",
    "\n",
    "\n",
    "Pseudocode:\n",
    "```\n",
    "Vj=1,3,5\n",
    "\n",
    "S=11\n",
    "\n",
    "sol[0,...,S]=inf\n",
    "\n",
    "- i=0, sol[0]=0\n",
    "- i=1,  \n",
    "    - Vj=1, i>=Vj? yes! then m=sol[i-Vj]=sol[0]=0. m+1<sol[1]=inf? yes! then sol[1]=m+1=1\n",
    "    - Vj=3, i>=Vj? no! then do nothing.\n",
    "    - Vj=5, i>=Vj? no! then do nothing.\n",
    "    - sol[1]=1\n",
    "- i=2, \n",
    "    - Vj=1, i>=Vj? yes! then m=sol[i-Vj]=sol[1]=1. m+1<sol[2]=inf? yes! then sol[2]=m+1=2\n",
    "    - Vj=3, i>=Vj? no!\n",
    "    - Vj=5, i>=Vj? no!\n",
    "    - sol[2]=2\n",
    "- i=3,\n",
    "    - Vj=1, i>=Vj? yes! then m=sol[i-Vj]=sol[2]=2. m+1<sol[3]=inf? yes! then sol[3]=m+1=3\n",
    "    - Vj=3, i>=Vj? yes! then m=sol[i-Vj]=sol[0]=0. m+1<sol[3]=3? yes! then sol[3]=m+1=1\n",
    "    - Vj=5, i>=Vj? no!\n",
    "    - sol[3]=1\n",
    "- i=4,\n",
    "    - Vj=1, i>=Vj? yes! then m=sol[i-Vj]=sol[3]=1. m+1<sol[4]=inf? yes! then sol[4]=m+1=2\n",
    "    - Vj=3, i>=Vj? yes! then m=sol[i-Vj]=sol[1]=1. m+1<sol[4]? no!\n",
    "    - Vj=5, i>=Vj? no!\n",
    "    - sol[4]=2\n",
    "- i=5,\n",
    "    - Vj=1, i>=Vj? yes! then m=sol[i-Vj]=sol[4]=2. m+1<sol[5]=inf? yes! then sol[5]=m+1=3\n",
    "    - Vj=3, i>=Vj? yes! then m=sol[i-Vj]=sol[2]=2. m+1<sol[5]? no!\n",
    "    - Vj=5, i>=Vj? yes! then m=sol[i-Vj]=sol[0]=0. m+1<sol[5]? yes! then sol[5]=m+1=1\n",
    "    - sol[5]=1\n",
    "- i=6,\n",
    "    - Vj=1, i>=Vj? yes! then m=sol[i-Vj]=sol[5]=1. m+1<sol[6]=inf? yes! then sol[6]=m+1=2\n",
    "    - Vj=2, i>=Vj? yes! then m=sol[i-Vj]=sol[4]=2. m+1<sol[6]=2? no!\n",
    "    - Vj=5, i>=Vj? yes! then m=sol[i-Vj]=sol[1]=1. m+1<sol[6]=2? no!\n",
    "    - sol[6]=2\n",
    "```"
   ]
  },
  {
   "cell_type": "code",
   "execution_count": 17,
   "metadata": {
    "collapsed": false
   },
   "outputs": [],
   "source": [
    "V=[1,3,5]\n",
    "S=18\n",
    "sol=np.inf*np.ones(S+1)\n",
    "sol[0]=0\n",
    "\n",
    "for i in range(S+1):\n",
    "    for v in V:\n",
    "        if (i-v>=0) and (sol[i-v]+1<sol[i]):\n",
    "            sol[i]=sol[i-v]+1"
   ]
  },
  {
   "cell_type": "code",
   "execution_count": 16,
   "metadata": {
    "collapsed": false,
    "scrolled": false
   },
   "outputs": [
    {
     "name": "stdout",
     "output_type": "stream",
     "text": [
      "0 0.0\n",
      "1 1.0\n",
      "2 2.0\n",
      "3 1.0\n",
      "4 2.0\n",
      "5 1.0\n",
      "6 2.0\n",
      "7 3.0\n",
      "8 2.0\n",
      "9 3.0\n",
      "10 2.0\n",
      "11 3.0\n",
      "12 4.0\n",
      "13 3.0\n",
      "14 4.0\n",
      "15 3.0\n",
      "16 4.0\n",
      "17 5.0\n",
      "18 4.0\n"
     ]
    }
   ],
   "source": [
    "for i, v in enumerate(sol):\n",
    "    print i, v"
   ]
  },
  {
   "cell_type": "code",
   "execution_count": null,
   "metadata": {
    "collapsed": true
   },
   "outputs": [],
   "source": []
  }
 ],
 "metadata": {
  "anaconda-cloud": {},
  "kernelspec": {
   "display_name": "Python [default]",
   "language": "python",
   "name": "python2"
  },
  "language_info": {
   "codemirror_mode": {
    "name": "ipython",
    "version": 2
   },
   "file_extension": ".py",
   "mimetype": "text/x-python",
   "name": "python",
   "nbconvert_exporter": "python",
   "pygments_lexer": "ipython2",
   "version": "2.7.12"
  },
  "toc": {
   "colors": {
    "hover_highlight": "#DAA520",
    "running_highlight": "#FF0000",
    "selected_highlight": "#FFD700"
   },
   "moveMenuLeft": true,
   "nav_menu": {
    "height": "12px",
    "width": "252px"
   },
   "navigate_menu": true,
   "number_sections": true,
   "sideBar": true,
   "threshold": 4,
   "toc_cell": false,
   "toc_section_display": "block",
   "toc_window_display": false
  }
 },
 "nbformat": 4,
 "nbformat_minor": 1
}

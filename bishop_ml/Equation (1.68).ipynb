{
 "cells": [
  {
   "cell_type": "code",
   "execution_count": 24,
   "metadata": {
    "collapsed": false,
    "scrolled": true
   },
   "outputs": [
    {
     "data": {
      "text/latex": [
       "To show:\n",
       "$\n",
       "p(t|x, \\textbf{x}, \\textbf{t}) \n",
       "= \\int p(t|x, \\textbf{w}) \n",
       "p(\\textbf{w}| \\textbf{x}, \\textbf{t}) d\\textbf{w}$"
      ],
      "text/plain": [
       "<IPython.core.display.Latex object>"
      ]
     },
     "metadata": {},
     "output_type": "display_data"
    }
   ],
   "source": [
    "%%latex\n",
    "To show:\n",
    "$\n",
    "p(t|x, \\textbf{x}, \\textbf{t}) \n",
    "= \\int p(t|x, \\textbf{w}) \n",
    "p(\\textbf{w}| \\textbf{x}, \\textbf{t}) d\\textbf{w}$"
   ]
  },
  {
   "cell_type": "code",
   "execution_count": 20,
   "metadata": {
    "collapsed": false
   },
   "outputs": [
    {
     "data": {
      "text/latex": [
       "See that by product rule and by sum rule that:\n",
       "$\n",
       "\\int p(t|x, \\textbf{w}) \n",
       "p(\\textbf{w}| \\textbf{x}, \\textbf{t}) d\\textbf{w} = \n",
       "\\int p(t, \\textbf{w}|x,\\textbf{x}, \\textbf{t}) d\\textbf{w} = \n",
       "p(t|x, \\textbf{x}, \\textbf{t}) \n",
       "$"
      ],
      "text/plain": [
       "<IPython.core.display.Latex object>"
      ]
     },
     "metadata": {},
     "output_type": "display_data"
    }
   ],
   "source": [
    "%%latex\n",
    "See that by product rule and by sum rule that:\n",
    "$\n",
    "\\int p(t|x, \\textbf{w}) \n",
    "p(\\textbf{w}| \\textbf{x}, \\textbf{t}) d\\textbf{w} = \n",
    "\\int p(t, \\textbf{w}|x,\\textbf{x}, \\textbf{t}) d\\textbf{w} = \n",
    "p(t|x, \\textbf{x}, \\textbf{t}) \n",
    "$"
   ]
  },
  {
   "cell_type": "code",
   "execution_count": null,
   "metadata": {
    "collapsed": true
   },
   "outputs": [],
   "source": []
  }
 ],
 "metadata": {
  "anaconda-cloud": {},
  "kernelspec": {
   "display_name": "Python [default]",
   "language": "python",
   "name": "python2"
  },
  "language_info": {
   "codemirror_mode": {
    "name": "ipython",
    "version": 2
   },
   "file_extension": ".py",
   "mimetype": "text/x-python",
   "name": "python",
   "nbconvert_exporter": "python",
   "pygments_lexer": "ipython2",
   "version": "2.7.12"
  }
 },
 "nbformat": 4,
 "nbformat_minor": 1
}

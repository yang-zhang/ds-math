{
 "cells": [
  {
   "cell_type": "markdown",
   "metadata": {
    "collapsed": false,
    "scrolled": true
   },
   "source": [
    "To show:\n",
    "$\n",
    "p(t|x, \\textbf{x}, \\textbf{t}) \n",
    "= \\int p(t|x, \\textbf{w}) \n",
    "p(\\textbf{w}| \\textbf{x}, \\textbf{t}) d\\textbf{w}$\n",
    "\n",
    "See that by product rule and by sum rule that:\n",
    "$$\n",
    "\\int p(t|x, \\textbf{w}) \n",
    "p(\\textbf{w}| \\textbf{x}, \\textbf{t}) d\\textbf{w} = \n",
    "\\int p(t, \\textbf{w}|x,\\textbf{x}, \\textbf{t}) d\\textbf{w} = \n",
    "p(t|x, \\textbf{x}, \\textbf{t}) \n",
    "$$"
   ]
  }
 ],
 "metadata": {
  "anaconda-cloud": {},
  "kernelspec": {
   "display_name": "Python [default]",
   "language": "python",
   "name": "python2"
  },
  "language_info": {
   "codemirror_mode": {
    "name": "ipython",
    "version": 2
   },
   "file_extension": ".py",
   "mimetype": "text/x-python",
   "name": "python",
   "nbconvert_exporter": "python",
   "pygments_lexer": "ipython2",
   "version": "2.7.12"
  },
  "toc": {
   "colors": {
    "hover_highlight": "#DAA520",
    "running_highlight": "#FF0000",
    "selected_highlight": "#FFD700"
   },
   "moveMenuLeft": true,
   "nav_menu": {
    "height": "12px",
    "width": "252px"
   },
   "navigate_menu": true,
   "number_sections": true,
   "sideBar": true,
   "threshold": 4,
   "toc_cell": false,
   "toc_section_display": "block",
   "toc_window_display": false
  }
 },
 "nbformat": 4,
 "nbformat_minor": 1
}

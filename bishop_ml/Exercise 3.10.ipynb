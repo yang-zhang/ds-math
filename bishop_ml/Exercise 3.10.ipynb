{
 "cells": [
  {
   "cell_type": "markdown",
   "metadata": {
    "collapsed": false,
    "scrolled": true
   },
   "source": [
    "Show (3.58)\n",
    "$$\n",
    "p(t|\\mathbf{x}, \\mathbf{t}, \\alpha, \\beta) = \\mathcal{N}(t|\\mathbf{m}_N^T\\mathbf\\phi(\\mathbf{x}), \\sigma_N^2(\\mathbf{x}))\n",
    "$$\n",
    "where\n",
    "$$\n",
    "\\sigma_N^2(\\mathbf{x}) = \\frac{1}{\\beta} + \\mathbf\\phi(\\mathbf{x})^T\\mathbf{S}_N\\mathbf\\phi(\\mathbf{x})\n",
    "$$\n",
    "from\n",
    "(3.57):$$\n",
    "p(t|\\mathbf{t}, \\alpha, \\beta) \n",
    "= \\int p(t|\\mathbf{w}, \\beta) \n",
    "p(\\mathbf{w}|\\mathbf{t}, \\alpha, \\beta) d\\mathbf{w}\n",
    "$$ \n",
    "(3.3):$$\n",
    "y(\\mathbf{x}, \\mathbf{w})=\\mathbf{w}^T\\mathbf\\phi(\\mathbf{x})\n",
    "$$\n",
    "(3.8):$$\n",
    "p(t|\\mathbf{x}, \\mathbf{w}, \\beta)=\\mathcal{N}(t|y(x, \\mathbf{w}), \\beta^{-1})\n",
    "$$ \n",
    "(3.49):$$\n",
    "p(\\mathbf{w}|\\mathbf{t}) = \\mathcal{N}(\\mathbf{w}|\\mathbf{m}_N, \\mathbf{S}_N)\n",
    "$$\n",
    "(2.113): $$\n",
    "p(\\mathbf{x}) = \\mathcal{N}(\\mathbf{x}|\\mathbf\\mu, \\mathbf\\Lambda^{-1})\n",
    "$$\n",
    "(2.114): $$\n",
    "p(\\mathbf{y}|\\mathbf{x}) = \\mathcal{N}(\\mathbf{y}|\\mathbf{Ax}+\\mathbf{b}, \\mathbf{L}^{-1})\n",
    "$$\n",
    "(2.115): $$\n",
    "p(\\mathbf{y}) = \\mathcal{N}(\\mathbf{y}|\\mathbf{A}\\mathbf\\mu+\\mathbf{b}, \\mathbf{L}^{-1} + \\mathbf{A}\\mathbf\\Lambda^{-1}\\mathbf{A}^T)\n",
    "$$\n",
    "\n"
   ]
  },
  {
   "cell_type": "markdown",
   "metadata": {},
   "source": [
    "Using (3.3), (3.8) and (3.49), we can re-write (3.57) as\n",
    "$$\n",
    "p(t|\\mathbf{x}, \\mathbf{t},\\alpha, \\beta) \n",
    "= \\int \\mathcal{N}(t|\\mathbf{w}^T\\mathbf\\phi(\\mathbf{x}), \\beta^{-1})\n",
    "\\mathcal{N}(\\mathbf{w}|\\mathbf{m}_N, \\mathbf{S}_N) d\\mathbf{w}\n",
    "$$\n",
    "\n",
    "Match\n",
    "$$\n",
    "p(\\mathbf{y}) = \\int p(\\mathbf{y},\\mathbf{x}) d\\mathbf{x} = \\int p(\\mathbf{y}|\\mathbf{x})p(\\mathbf{x}) d\\mathbf{x}\n",
    "$$\n",
    "\n",
    "$$\\mathbf{A}: \\mathbf\\phi(\\mathbf{x}); \\mathbf{b}:\\mathbf{0}; \\mathbf{L}:\\beta$$\n",
    "$$\\mathbf\\mu: \\mathbf{m}_N; \\mathbf\\Lambda: \\mathbf{S}_N^{-1}$$"
   ]
  }
 ],
 "metadata": {
  "anaconda-cloud": {},
  "kernelspec": {
   "display_name": "Python [default]",
   "language": "python",
   "name": "python2"
  },
  "language_info": {
   "codemirror_mode": {
    "name": "ipython",
    "version": 2
   },
   "file_extension": ".py",
   "mimetype": "text/x-python",
   "name": "python",
   "nbconvert_exporter": "python",
   "pygments_lexer": "ipython2",
   "version": "2.7.12"
  }
 },
 "nbformat": 4,
 "nbformat_minor": 1
}
